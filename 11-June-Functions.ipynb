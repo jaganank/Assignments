{
 "cells": [
  {
   "cell_type": "code",
   "execution_count": 1,
   "id": "6802a37c",
   "metadata": {},
   "outputs": [],
   "source": [
    "#1. What is a lambda function in Python, and how does it differ from a regular function?"
   ]
  },
  {
   "cell_type": "raw",
   "id": "95749e03",
   "metadata": {},
   "source": [
    "A lambda function is an anonymous function (i.e., defined without a name) that can take any number of arguments but, unlike normal functions, evaluates and returns only one expression. Lambda functions automatically return the result of the expression they evaluate, while regular functions defined with def require an explicit return statement to return a value."
   ]
  },
  {
   "cell_type": "code",
   "execution_count": 3,
   "id": "fb4f32cd",
   "metadata": {},
   "outputs": [
    {
     "name": "stdout",
     "output_type": "stream",
     "text": [
      "12\n"
     ]
    }
   ],
   "source": [
    "#Example for Lambda function\n",
    "add = lambda x,y : x + y\n",
    "print(add(10,2))"
   ]
  },
  {
   "cell_type": "code",
   "execution_count": 4,
   "id": "8a462240",
   "metadata": {},
   "outputs": [],
   "source": [
    "#2. Can a lambda function in Python have multiple arguments? If yes, how can you define and use them?"
   ]
  },
  {
   "cell_type": "raw",
   "id": "de722d19",
   "metadata": {},
   "source": [
    "A lambda function can have as many arguments as you need to use, but the body must be one single expression."
   ]
  },
  {
   "cell_type": "code",
   "execution_count": 11,
   "id": "a03df00c",
   "metadata": {},
   "outputs": [
    {
     "name": "stdout",
     "output_type": "stream",
     "text": [
      "{'name': 'Laptop', 'Price': 85000}\n",
      "{'name': 'Desktop', 'Price': 56000}\n",
      "{'name': 'Phone', 'Price': 15000}\n",
      "{'name': 'Printer', 'Price': 3000}\n"
     ]
    }
   ],
   "source": [
    "#lambda function for multiple arguments\n",
    "\n",
    "products = [{\"name\":\"Phone\", \"Price\": 15000},\n",
    "            {\"name\":\"Laptop\", \"Price\": 85000},\n",
    "             {\"name\":\"Desktop\", \"Price\": 56000},\n",
    "           {\"name\":\"Printer\", \"Price\": 3000}]\n",
    "\n",
    "sorted_products = sorted(products, key = lambda x: x[\"Price\"], reverse=True)\n",
    "\n",
    "for products in sorted_products:\n",
    "    print(products)"
   ]
  },
  {
   "cell_type": "code",
   "execution_count": 12,
   "id": "701b22da",
   "metadata": {},
   "outputs": [],
   "source": [
    "#3. How are lambda functions typically used in Python? Provide an example use case."
   ]
  },
  {
   "cell_type": "raw",
   "id": "0d76a56e",
   "metadata": {},
   "source": [
    "Lambda function is used to create simple expressions. For example, expressions that do not include complex structures such as if-else, for-loops, and so on. So, for example, if we want to create a function with a for-loop, you should use a user-defined function.The Lambda expression is used to provide the implementation of an interface which has functional interface. It saves a lot of code. In case of lambda expression, we don't need to define the method again for providing the implementation.\n",
    "\n",
    "Lambda functions can process large amounts of data, such as logs or events. This can be useful for data transformation, aggregation, or analysis tasks. An excellent example of this use case is a Centralized logging system where Lambda is used for logging transformation.\n",
    "\n",
    "\n",
    "Use cases for Lambda functions also in below mentioned \n",
    "Sorting Lists with Custom Keys. \n",
    "Filtering Lists with the filter() Function.\n",
    "Applying Transformations with the map() Function. \n",
    "Using Lambda Functions with functools.\n",
    "Creating Small, One-Time-Use Functions.\n",
    "Implementing Simple Event Handlers."
   ]
  },
  {
   "cell_type": "code",
   "execution_count": 1,
   "id": "26953a7e",
   "metadata": {},
   "outputs": [
    {
     "name": "stdout",
     "output_type": "stream",
     "text": [
      "[2, 4, 6, 8]\n"
     ]
    }
   ],
   "source": [
    "#Example for use case of Lambda functions\n",
    "numbers = [1, 2, 3, 4, 5, 6, 7, 8, 9]\n",
    "even_numbers = list(filter(lambda x: x % 2 == 0, numbers))\n",
    "print(even_numbers)"
   ]
  },
  {
   "cell_type": "code",
   "execution_count": 2,
   "id": "d44a935c",
   "metadata": {},
   "outputs": [],
   "source": [
    "#4. What are the advantages and limitations of lambda functions compared to regular functions inPython?"
   ]
  },
  {
   "cell_type": "raw",
   "id": "d0f1909b",
   "metadata": {},
   "source": [
    "They can be immediately passed around (no variable needed) They can only have a single line of code within them. They return automatically. They can't have a docstring and they don't have a name.Lambda functions can be used in place of any regular function that evaluates a single expression and returns a value. But, if we want our function to change a global variable, read from a file, or evaluate more than one expression, it will not work as a lambda function.Lambda functions are inline functions and thus execute comparatively faster."
   ]
  },
  {
   "cell_type": "code",
   "execution_count": 3,
   "id": "e7f4a3a8",
   "metadata": {},
   "outputs": [],
   "source": [
    "#5. Are lambda functions in Python able to access variables defined outside of their own scope?\n",
    "#Explain with an example."
   ]
  },
  {
   "cell_type": "raw",
   "id": "6f8b6151",
   "metadata": {},
   "source": [
    "Lambda functions have their own local namespace and cannot access variables other than those in their parameter list and those in the global namespace.A lambda expression introduces a new local scope for the function it creates. Lambdas can see all the variables that live in the functions where they are coded."
   ]
  },
  {
   "cell_type": "code",
   "execution_count": 3,
   "id": "a8e6f719",
   "metadata": {},
   "outputs": [
    {
     "name": "stdout",
     "output_type": "stream",
     "text": [
      "16\n"
     ]
    }
   ],
   "source": [
    "#Example for scope of variable in Lambda function\n",
    "def func(): \n",
    "    x = 4 \n",
    "    a = (lambda n: x ** n)          \n",
    "    return a\n",
    "\n",
    "x = func() \n",
    "print(x(2))                             "
   ]
  },
  {
   "cell_type": "code",
   "execution_count": null,
   "id": "1d79bd9e",
   "metadata": {},
   "outputs": [],
   "source": [
    "#6. Write a lambda function to calculate the square of a given number."
   ]
  },
  {
   "cell_type": "code",
   "execution_count": 15,
   "id": "80459a64",
   "metadata": {},
   "outputs": [
    {
     "name": "stdout",
     "output_type": "stream",
     "text": [
      "Enter a number : 5\n",
      "25\n"
     ]
    }
   ],
   "source": [
    "square = lambda x: x * x    \n",
    "n = int(input(\"Enter a number : \"))\n",
    "print(square(n))"
   ]
  },
  {
   "cell_type": "code",
   "execution_count": 16,
   "id": "fe631192",
   "metadata": {},
   "outputs": [],
   "source": [
    "#7. Create a lambda function to find the maximum value in a list of integers."
   ]
  },
  {
   "cell_type": "code",
   "execution_count": 18,
   "id": "6d3e61fd",
   "metadata": {},
   "outputs": [
    {
     "name": "stdout",
     "output_type": "stream",
     "text": [
      "9\n"
     ]
    }
   ],
   "source": [
    "l = [5,3,9,8,1]\n",
    "maximum = max(l,key = lambda x: int(x))\n",
    "print(maximum)"
   ]
  },
  {
   "cell_type": "code",
   "execution_count": 19,
   "id": "9b755456",
   "metadata": {},
   "outputs": [],
   "source": [
    "#8. Implement a lambda function to filter out all the even numbers from a list of integers"
   ]
  },
  {
   "cell_type": "code",
   "execution_count": 22,
   "id": "b5e1947c",
   "metadata": {},
   "outputs": [
    {
     "name": "stdout",
     "output_type": "stream",
     "text": [
      "Even Numbers are [2, 4, 6, 8, 10, 12, 24]\n"
     ]
    }
   ],
   "source": [
    "k = [2,3,4,6,7,8,10,11,12,13,24]\n",
    "even = list(filter(lambda x: x%2 == 0,k))\n",
    "print(\"Even Numbers are\",even)"
   ]
  },
  {
   "cell_type": "code",
   "execution_count": 23,
   "id": "daa3e310",
   "metadata": {},
   "outputs": [],
   "source": [
    "#9. Write a lambda function to sort a list of strings in ascending order based on the length of each string"
   ]
  },
  {
   "cell_type": "code",
   "execution_count": 45,
   "id": "2cce41d6",
   "metadata": {},
   "outputs": [
    {
     "name": "stdout",
     "output_type": "stream",
     "text": [
      "['Anil', 'Johny', 'Indra', 'Lokesh', 'Kennedy', 'Bhushan', 'Mohammed']\n"
     ]
    }
   ],
   "source": [
    "s = ['Mohammed','Johny','Kennedy','Bhushan','Lokesh','Indra','Anil']\n",
    "\n",
    "sorted_list = sorted(s,key = lambda x: len(x))\n",
    "print(sorted_list)"
   ]
  },
  {
   "cell_type": "code",
   "execution_count": 46,
   "id": "0e15cb6d",
   "metadata": {},
   "outputs": [],
   "source": [
    "#10. Create a lambda function that takes two lists as input and returns a new list containing the\n",
    "#common elements between the two lists."
   ]
  },
  {
   "cell_type": "code",
   "execution_count": 48,
   "id": "9cae4bd1",
   "metadata": {},
   "outputs": [
    {
     "name": "stdout",
     "output_type": "stream",
     "text": [
      "[8, 1, 4, 0, 7, 3]\n"
     ]
    }
   ],
   "source": [
    "a = [1,3,4,5,6,7,8,14,12,15,0]\n",
    "b = [8,9,1,4,0,7,11,19,3,17]\n",
    "\n",
    "common = list(filter(lambda x : x in a,b))\n",
    "print(common)"
   ]
  },
  {
   "cell_type": "code",
   "execution_count": 49,
   "id": "c10a8fd7",
   "metadata": {},
   "outputs": [],
   "source": [
    "#11. Write a recursive function to calculate the factorial of a given positive integer."
   ]
  },
  {
   "cell_type": "code",
   "execution_count": 54,
   "id": "e48b3ddf",
   "metadata": {},
   "outputs": [
    {
     "name": "stdout",
     "output_type": "stream",
     "text": [
      "Enter any number : 4\n",
      "Factorial of 4 is 24\n"
     ]
    }
   ],
   "source": [
    "def fact(n):\n",
    "    if n == 0:\n",
    "        return 1\n",
    "    else :\n",
    "        return n * fact(n-1)\n",
    "i = int(input(\"Enter any number : \"))\n",
    "print(\"Factorial of\",i,\"is\",fact(i))"
   ]
  },
  {
   "cell_type": "code",
   "execution_count": 55,
   "id": "af31b218",
   "metadata": {},
   "outputs": [],
   "source": [
    "#12. Implement a recursive function to compute the nth Fibonacci number."
   ]
  },
  {
   "cell_type": "code",
   "execution_count": 58,
   "id": "3d4fc593",
   "metadata": {},
   "outputs": [
    {
     "name": "stdout",
     "output_type": "stream",
     "text": [
      "Fibonacci Series of 6 [0, 1, 1, 2, 3, 5]\n"
     ]
    }
   ],
   "source": [
    "def fib(n):\n",
    "    if n<=1:\n",
    "        return []\n",
    "    elif n == 1:\n",
    "        return [0]\n",
    "    elif n == 2:\n",
    "        return [0,1]\n",
    "    else:\n",
    "        fib_series = fib(n - 1)\n",
    "        fib_series.append(fib_series[-1] + fib_series[-2])\n",
    "        return fib_series\n",
    "    \n",
    "print(\"Fibonacci Series of 6\",fib(6))"
   ]
  },
  {
   "cell_type": "code",
   "execution_count": 59,
   "id": "e7059bf0",
   "metadata": {},
   "outputs": [],
   "source": [
    "# 13. Create a recursive function to find the sum of all the elements in a given list."
   ]
  },
  {
   "cell_type": "code",
   "execution_count": 63,
   "id": "0044b905",
   "metadata": {},
   "outputs": [
    {
     "name": "stdout",
     "output_type": "stream",
     "text": [
      "49\n"
     ]
    }
   ],
   "source": [
    "def sum_list(list):\n",
    "    total = 0\n",
    "    for element in list:\n",
    "        if type(element) == type([]):\n",
    "            total = total + sum_list(element)\n",
    "        else:\n",
    "            total = total + element\n",
    "    return total\n",
    "\n",
    "print(sum_list([1,2,34,4,3,[2,3]]))            "
   ]
  },
  {
   "cell_type": "code",
   "execution_count": 64,
   "id": "1f72514c",
   "metadata": {},
   "outputs": [],
   "source": [
    "#14. Write a recursive function to determine whether a given string is a palindrome."
   ]
  },
  {
   "cell_type": "code",
   "execution_count": 5,
   "id": "edde615f",
   "metadata": {},
   "outputs": [
    {
     "name": "stdout",
     "output_type": "stream",
     "text": [
      "Enter a string :rotator\n",
      "String entered is a palindrome\n"
     ]
    }
   ],
   "source": [
    "def palindrome(s):\n",
    "    if len(s) < 1:\n",
    "        return True\n",
    "    else :\n",
    "        if s[0] == s[-1]:\n",
    "            return palindrome(s[1:-1])\n",
    "        else:\n",
    "            return False\n",
    "s = str(input(\"Enter a string :\"))\n",
    "\n",
    "if(palindrome(s) == True):\n",
    "    print(\"String entered is a palindrome\")\n",
    "else:\n",
    "    print(\"String entered is not a palindrome\")     "
   ]
  },
  {
   "cell_type": "code",
   "execution_count": 6,
   "id": "1a1bf46d",
   "metadata": {},
   "outputs": [],
   "source": [
    "#15. Implement a recursive function to find the greatest common divisor (GCD) of two positive integers"
   ]
  },
  {
   "cell_type": "code",
   "execution_count": 7,
   "id": "0ca48b1d",
   "metadata": {},
   "outputs": [
    {
     "name": "stdout",
     "output_type": "stream",
     "text": [
      "Enter first number :5\n",
      "Enter second number :15\n",
      "Greatest common divisor of  5 and 15 is : 5\n"
     ]
    }
   ],
   "source": [
    "def gcd(num1,num2):\n",
    "    if num2 == 0:\n",
    "        return num1\n",
    "    else:\n",
    "        return gcd(num2,num1%num2)\n",
    "\n",
    "num1=int(input(\"Enter first number :\"))\n",
    "num2=int(input(\"Enter second number :\"))\n",
    "\n",
    "result = gcd(num1,num2)\n",
    "\n",
    "print(\"Greatest common divisor of \",num1,\"and\",num2,\"is :\",result)"
   ]
  },
  {
   "cell_type": "code",
   "execution_count": null,
   "id": "858b84dc",
   "metadata": {},
   "outputs": [],
   "source": []
  }
 ],
 "metadata": {
  "kernelspec": {
   "display_name": "Python 3 (ipykernel)",
   "language": "python",
   "name": "python3"
  },
  "language_info": {
   "codemirror_mode": {
    "name": "ipython",
    "version": 3
   },
   "file_extension": ".py",
   "mimetype": "text/x-python",
   "name": "python",
   "nbconvert_exporter": "python",
   "pygments_lexer": "ipython3",
   "version": "3.10.9"
  }
 },
 "nbformat": 4,
 "nbformat_minor": 5
}
