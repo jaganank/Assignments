{
 "cells": [
  {
   "cell_type": "code",
   "execution_count": 1,
   "id": "1649fad7-c932-4da9-9ebd-b5ef592b31ba",
   "metadata": {},
   "outputs": [],
   "source": [
    "#1. In the below elements which of them are values or an expression? eg:- values can be integer or string and expressions will be mathematical operators."
   ]
  },
  {
   "cell_type": "code",
   "execution_count": null,
   "id": "ce24e172-fae4-4ac4-b310-04fe15fd646a",
   "metadata": {},
   "outputs": [],
   "source": [
    "\"\"\" \n",
    "Answer: \n",
    "*  - expression \n",
    "\n",
    "'hello' - values \n",
    "\n",
    "-87.8  - values \n",
    "\n",
    "-  - expression\n",
    "\n",
    "/ - expression\n",
    "\n",
    "+ - expression\n",
    "\n",
    "6  - values\n",
    "\n",
    "\"\"\""
   ]
  },
  {
   "cell_type": "code",
   "execution_count": 4,
   "id": "de6cf67c-3e03-45ef-90f6-371ea0f6f5c7",
   "metadata": {},
   "outputs": [],
   "source": [
    "# 2. What is the difference between string and variable?"
   ]
  },
  {
   "cell_type": "markdown",
   "id": "69165b43-37f5-401c-b812-46722523fb19",
   "metadata": {},
   "source": [
    "Answer:\n",
    "String is a built-in data type and can have value of single character or sequence of characters assigned to a variable with in double or single quotes. \n",
    "Ex: a = “iNeuron” \n",
    "      C = ‘g’\n",
    "      H = “123444”\n",
    "Variable is basic data objects used to manipulate in a program. We can set the initial values to a variable and remain as a constant value.\n",
    "X = 10\n",
    "k = “string”\n",
    "f = 21.342\n",
    "pi = 3.14\n"
   ]
  },
  {
   "cell_type": "code",
   "execution_count": 5,
   "id": "2b94aba7-9a16-42fe-a275-7efdd1a6589d",
   "metadata": {},
   "outputs": [],
   "source": [
    "# 3. Describe three different data types."
   ]
  },
  {
   "cell_type": "markdown",
   "id": "f7ea58b6-64ec-42a8-9c89-4eb2dc47a560",
   "metadata": {},
   "source": [
    "Answer: Lists – is used to store multiple data types in a single variable. Lists items are ordered, changeable (mutable) and allow duplicate values. List items are indexed.\n",
    "Ex: list = [“Naveen”,1,3,5,6,7,[2,4,6,8],79.98,True]\n",
    "Dictionaries – are used to store key: value pairs. Items can be ordered, changeable and do not allow duplicate values. Dictionary items are non-indexed.\n",
    "Ex dict = { “class” : 8, “name”: “Praveen”, “marks”: 620, “percentage”: 80}\n",
    "Sets – is used to store multiple data types. Sets are unordered, unchangeable (non-mutable) and does not allow duplicate values. Set items are non-indexed. \n",
    "Ex: set1 = {1,3,5,6}\n",
    "       set2 = {“a”,”e”,”I”,”o”,”u”}\n"
   ]
  },
  {
   "cell_type": "code",
   "execution_count": 6,
   "id": "5475ee60-f153-447a-ac98-4d151f9c9687",
   "metadata": {},
   "outputs": [],
   "source": [
    "# 4. What is an expression made up of? What do all expressions do?"
   ]
  },
  {
   "cell_type": "markdown",
   "id": "82af7768-d90b-4ec8-a920-140f67b9499a",
   "metadata": {},
   "source": [
    " Answer: Expression is an assignment statement and has value, which is the value of the left hand side after the assignment. It is a combination of data, operators, variables that evaluate into a single value. All expressions evaluates and displays the result.\n",
    "c = (25 * 5) /  5\n",
    "d = 9.8 * 2  \n"
   ]
  },
  {
   "cell_type": "code",
   "execution_count": 7,
   "id": "9dede9c1-bdab-451f-9ce8-b0c1547bdb6d",
   "metadata": {},
   "outputs": [],
   "source": [
    "#5. This assignment statements, like spam = 10. What is the difference between an expression and a statement?"
   ]
  },
  {
   "cell_type": "markdown",
   "id": "e182a86f-6466-4e63-9205-d8795ed282ed",
   "metadata": {},
   "source": [
    "Answer: Spam = 10 is an assignment statement and has value of 10 assigned to variable name spam.\n",
    "Statements are a set of instructions given to the python interpreter to execute. Statements can be combination of logical, decisional, and branching operations."
   ]
  },
  {
   "cell_type": "code",
   "execution_count": 9,
   "id": "577e4f3a-460c-494c-abb6-1cab07f84c5a",
   "metadata": {},
   "outputs": [
    {
     "data": {
      "text/plain": [
       "23"
      ]
     },
     "execution_count": 9,
     "metadata": {},
     "output_type": "execute_result"
    }
   ],
   "source": [
    "#6. After running the following code, what does the variable bacon contain?\n",
    "bacon = 22\n",
    "bacon + 1"
   ]
  },
  {
   "cell_type": "markdown",
   "id": "5478e45c-f1de-4158-a149-e6a2996be6bf",
   "metadata": {},
   "source": [
    "Answer: bacon variable in memory will still contain a value of 22. However, bacon + 1 will give 23 as a output"
   ]
  },
  {
   "cell_type": "code",
   "execution_count": 11,
   "id": "ad626727-2456-463e-9a78-28af7dff7d5d",
   "metadata": {},
   "outputs": [
    {
     "data": {
      "text/plain": [
       "'spamspamspam'"
      ]
     },
     "execution_count": 11,
     "metadata": {},
     "output_type": "execute_result"
    }
   ],
   "source": [
    "#7. What should the values of the following two terms be?\n",
    "'spam' + 'spamspam'\n",
    "'spam' * 3"
   ]
  },
  {
   "cell_type": "code",
   "execution_count": 12,
   "id": "6ce4d0f9-fae4-45a5-83cd-ca9f63f1eee9",
   "metadata": {},
   "outputs": [],
   "source": [
    "#8. Why is eggs a valid variable name while 100 is invalid?"
   ]
  },
  {
   "cell_type": "markdown",
   "id": "e062a4bc-e7a3-4db1-86ed-7c94dea3eb35",
   "metadata": {},
   "source": [
    "Answer:  We can give eggs as variable name since it starting with a character while 100 cannot be variable since first letters of variable cannot be a numeric literal"
   ]
  },
  {
   "cell_type": "code",
   "execution_count": 13,
   "id": "dfca51dc-f987-461c-85b3-da84cd2662f3",
   "metadata": {},
   "outputs": [],
   "source": [
    "#9. What three functions can be used to get the integer, floating-point number, or string version of a value?"
   ]
  },
  {
   "cell_type": "markdown",
   "id": "3bc7923f-e73e-4983-ba78-1f7a36ca8408",
   "metadata": {},
   "source": [
    "Answer:   type () function can be used to get integer, floating-point number or string data type\n",
    "x = 10\n",
    "type(x) or print(type(x))\n",
    "a = 23.12\n",
    "type (a) or print(type(a))\n",
    "S = ‘kumar’\n",
    "Type(S) or print (type(S))"
   ]
  },
  {
   "cell_type": "code",
   "execution_count": 14,
   "id": "4afef46b-7039-4aab-8507-6c9470d24229",
   "metadata": {},
   "outputs": [
    {
     "ename": "TypeError",
     "evalue": "can only concatenate str (not \"int\") to str",
     "output_type": "error",
     "traceback": [
      "\u001b[0;31m---------------------------------------------------------------------------\u001b[0m",
      "\u001b[0;31mTypeError\u001b[0m                                 Traceback (most recent call last)",
      "Cell \u001b[0;32mIn [14], line 2\u001b[0m\n\u001b[1;32m      1\u001b[0m \u001b[38;5;66;03m#10. Why does this expression cause an error? How can you fix it?\u001b[39;00m\n\u001b[0;32m----> 2\u001b[0m \u001b[38;5;124;43m'\u001b[39;49m\u001b[38;5;124;43mI have eaten \u001b[39;49m\u001b[38;5;124;43m'\u001b[39;49m\u001b[43m \u001b[49m\u001b[38;5;241;43m+\u001b[39;49m\u001b[43m \u001b[49m\u001b[38;5;241;43m99\u001b[39;49m \u001b[38;5;241m+\u001b[39m \u001b[38;5;124m'\u001b[39m\u001b[38;5;124m burritos.\u001b[39m\u001b[38;5;124m'\u001b[39m\n",
      "\u001b[0;31mTypeError\u001b[0m: can only concatenate str (not \"int\") to str"
     ]
    }
   ],
   "source": [
    "#10. Why does this expression cause an error? How can you fix it?\n",
    "'I have eaten ' + 99 + ' burritos.'"
   ]
  },
  {
   "cell_type": "markdown",
   "id": "6c92e0cf-dba4-4b2c-a540-979de7880893",
   "metadata": {},
   "source": [
    "Answer:   We can only concatenate string values with string and not the integer or digit value 99\n",
    "We can correct by making 99 as string value as shown below "
   ]
  },
  {
   "cell_type": "code",
   "execution_count": 15,
   "id": "16bf99b6-d9a3-4390-ab6a-0b7733daf994",
   "metadata": {},
   "outputs": [
    {
     "data": {
      "text/plain": [
       "'I have eaten 99 buritos'"
      ]
     },
     "execution_count": 15,
     "metadata": {},
     "output_type": "execute_result"
    }
   ],
   "source": [
    "'I have eaten' +' '   '99'   + ' ''buritos'"
   ]
  },
  {
   "cell_type": "code",
   "execution_count": 16,
   "id": "fc2eee5f-4ae3-449d-967d-ac31794cf09d",
   "metadata": {},
   "outputs": [],
   "source": [
    "# OR use below code"
   ]
  },
  {
   "cell_type": "code",
   "execution_count": 17,
   "id": "0c48bebd-b85c-4563-98c3-8e5f2d63e6f8",
   "metadata": {},
   "outputs": [
    {
     "name": "stdout",
     "output_type": "stream",
     "text": [
      "I have eaten 99 buritos\n"
     ]
    }
   ],
   "source": [
    "s1='I have eaten'\n",
    "s2='99'\n",
    "s3='buritos'\n",
    "s4 = \"%s %s %s\"%(s1,s2,s3)\n",
    "print(s4)"
   ]
  },
  {
   "cell_type": "code",
   "execution_count": null,
   "id": "daad59f7-c664-4006-a89e-1a6154ecd6d0",
   "metadata": {},
   "outputs": [],
   "source": []
  }
 ],
 "metadata": {
  "kernelspec": {
   "display_name": "Python 3 (ipykernel)",
   "language": "python",
   "name": "python3"
  },
  "language_info": {
   "codemirror_mode": {
    "name": "ipython",
    "version": 3
   },
   "file_extension": ".py",
   "mimetype": "text/x-python",
   "name": "python",
   "nbconvert_exporter": "python",
   "pygments_lexer": "ipython3",
   "version": "3.10.6"
  }
 },
 "nbformat": 4,
 "nbformat_minor": 5
}
