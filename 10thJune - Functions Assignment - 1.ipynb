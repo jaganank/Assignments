{
 "cells": [
  {
   "cell_type": "code",
   "execution_count": null,
   "id": "a11b0e5e",
   "metadata": {},
   "outputs": [],
   "source": [
    "#1. In Python, what is the difference between a built-in function and a user-defined function? Provide an\n",
    "#example of each"
   ]
  },
  {
   "cell_type": "raw",
   "id": "a7c29235",
   "metadata": {},
   "source": [
    "Python has several functions that are readily available for use.Functions that come with Python are called built-in functions.Functions that we define ourselves to do certain specific task are referred as user-defined functions. \n",
    "User-defined functions help to decompose a large program into small segments which makes program easy to understand, maintain and debug."
   ]
  },
  {
   "cell_type": "code",
   "execution_count": 10,
   "id": "b7b1c1c7",
   "metadata": {},
   "outputs": [
    {
     "name": "stdout",
     "output_type": "stream",
     "text": [
      "iNeuron\n",
      "16\n",
      "7\n",
      "5.45\n"
     ]
    }
   ],
   "source": [
    "#Example of built-in function\n",
    "print('iNeuron')\n",
    "print(pow(2,4))\n",
    "print(len('iNeuron'))\n",
    "print(abs(5.45))"
   ]
  },
  {
   "cell_type": "code",
   "execution_count": 17,
   "id": "4476dd26",
   "metadata": {},
   "outputs": [
    {
     "name": "stdout",
     "output_type": "stream",
     "text": [
      "Addition of two numbers is 9 and Average is 5.0\n"
     ]
    }
   ],
   "source": [
    "#Example of User-Defined function\n",
    "def addition(x,y):\n",
    "    return x + y\n",
    "def average(x,y):\n",
    "    return (x + y) / 2\n",
    "\n",
    "print(\"Addition of two numbers is\",addition(4,5),\"and Average is\",average(6,4))"
   ]
  },
  {
   "cell_type": "code",
   "execution_count": 18,
   "id": "053e4bfb",
   "metadata": {},
   "outputs": [],
   "source": [
    "#2. How can you pass arguments to a function in Python? Explain the difference between positional\n",
    "#arguments and keyword arguments."
   ]
  },
  {
   "cell_type": "raw",
   "id": "86ccc7d3",
   "metadata": {},
   "source": [
    "Function arguments are the values or variables that we pass to a function or method when we call it. These arguments are used to specify the parameters of the function or method.Positional, keyword, and default arguments are important concepts in Python programming that allow you to specify the arguments or parameters that a function or method should accept.\n",
    "\n",
    "Positional arguments are the arguments that are passed to a function or method in a specific order. The order in which you pass these arguments matters, because the function or method will use the arguments in the order that they are received.\n",
    "To use positional arguments, the arguments need to be passed in the same order as their respective parameters in the function definition.\n",
    "\n",
    "Keyword arguments are arguments that are passed to a function or method using the name of the argument followed by an equal sign and the value of the argument. These arguments do not need to be passed in a specific order, because the function or method will use the names of the arguments to determine which values to use for which parameters."
   ]
  },
  {
   "cell_type": "code",
   "execution_count": 19,
   "id": "68cf89b2",
   "metadata": {},
   "outputs": [
    {
     "name": "stdout",
     "output_type": "stream",
     "text": [
      "6\n"
     ]
    }
   ],
   "source": [
    "#Example of keyword arguments\n",
    "def add(a,b,c):\n",
    "    return a + b + c\n",
    "\n",
    "print(add(b=3,c=1,a=2))"
   ]
  },
  {
   "cell_type": "code",
   "execution_count": 22,
   "id": "72c97b7d",
   "metadata": {},
   "outputs": [
    {
     "name": "stdout",
     "output_type": "stream",
     "text": [
      "35\n",
      "31\n"
     ]
    }
   ],
   "source": [
    "#Example of positional arguments\n",
    "def sum(a,b,c):\n",
    "    return a + b + c\n",
    "\n",
    "print(sum(a=10,b=20,c=5))\n",
    "print(sum(5,c=5,b=21))"
   ]
  },
  {
   "cell_type": "code",
   "execution_count": 23,
   "id": "66e0bc89",
   "metadata": {},
   "outputs": [],
   "source": [
    "#3. What is the purpose of the return statement in a function? Can a function have multiple return\n",
    "#statements? Explain with an example."
   ]
  },
  {
   "cell_type": "raw",
   "id": "b8240140",
   "metadata": {},
   "source": [
    "In Python, the return statement exits a function and returns the specified value to the caller. Multiple return statements may exist in a function, but only the one that fulfils the specified condition first is executed. A return statement ends the execution of a function, and returns control to the calling function. Execution resumes in the calling function at the point immediately following the call."
   ]
  },
  {
   "cell_type": "code",
   "execution_count": 24,
   "id": "279f0b75",
   "metadata": {},
   "outputs": [
    {
     "name": "stdout",
     "output_type": "stream",
     "text": [
      "9\n"
     ]
    }
   ],
   "source": [
    "#Example of return statement\n",
    "def fun():\n",
    "    return 3 * 3\n",
    "\n",
    "print(fun())"
   ]
  },
  {
   "cell_type": "code",
   "execution_count": 26,
   "id": "6629b6eb",
   "metadata": {},
   "outputs": [
    {
     "name": "stdout",
     "output_type": "stream",
     "text": [
      "BMW INDIA 2023 X6\n"
     ]
    }
   ],
   "source": [
    "#Example of multiple return statement\n",
    "def attributes():\n",
    "    Brand=\"BMW\"\n",
    "    Country=\"INDIA\"\n",
    "    YOM=2023\n",
    "    MODEL=\"X6\"\n",
    "    return Brand,Country,YOM,MODEL\n",
    "\n",
    "brand,country,yom,model=attributes()\n",
    "print(brand,country,yom,model)"
   ]
  },
  {
   "cell_type": "code",
   "execution_count": 27,
   "id": "664f98b1",
   "metadata": {},
   "outputs": [],
   "source": [
    "#4. What are lambda functions in Python? How are they different from regular functions? Provide an\n",
    "#example where a lambda function can be useful."
   ]
  },
  {
   "cell_type": "raw",
   "id": "7ab0890e",
   "metadata": {},
   "source": [
    "A lambda function is an anonymous function (i.e., defined without a name) that can take any number of arguments but, unlike normal functions, evaluates and returns only one expression. Note that, unlike a normal function, we don't surround the parameters of a lambda function with parentheses.Lamba functions are commonly referred to as anonymous functions. Lambda functions are efficient whenever we want to create a function that will only contain simple expressions – that is, expressions that are usually a single line of a statement. Functions offers local and remote debugging, while Lambda only offers local."
   ]
  },
  {
   "cell_type": "code",
   "execution_count": 31,
   "id": "52efa246",
   "metadata": {},
   "outputs": [
    {
     "name": "stdout",
     "output_type": "stream",
     "text": [
      "15\n",
      "[1, 4, 16, 25, 36, 49]\n"
     ]
    }
   ],
   "source": [
    "#Examples for Lamba function\n",
    "add_three = lambda x,y,z : x + y + z\n",
    "print(add_three(10,2,3))\n",
    "\n",
    "my_list_cal = lambda x : [i ** 2 for i in x]\n",
    "print(my_list_cal([1,2,4,5,6,7]))"
   ]
  },
  {
   "cell_type": "code",
   "execution_count": 32,
   "id": "9c935e67",
   "metadata": {},
   "outputs": [],
   "source": [
    "#5. How does the concept of \"scope\" apply to functions in Python?Explain the difference between localscope and global scope."
   ]
  },
  {
   "cell_type": "raw",
   "id": "e9fd4766",
   "metadata": {},
   "source": [
    "The scope of global variables is the entire program whereas the scope of local variable is limited to the function where it is defined.If you operate with the same variable name inside and outside of a function, Python will treat them as two separate variables, one available in the global scope (outside the function) and one available in the local scope (inside the function)"
   ]
  },
  {
   "cell_type": "code",
   "execution_count": 33,
   "id": "bb10860b",
   "metadata": {},
   "outputs": [
    {
     "name": "stdout",
     "output_type": "stream",
     "text": [
      "200\n"
     ]
    }
   ],
   "source": [
    "#Example for global and local variable\n",
    "x = 300\n",
    "\n",
    "def myfunc():\n",
    "    global x\n",
    "    x = 200\n",
    "    \n",
    "myfunc()\n",
    "\n",
    "print(x)"
   ]
  },
  {
   "cell_type": "code",
   "execution_count": 34,
   "id": "6646e436",
   "metadata": {},
   "outputs": [],
   "source": [
    "#6. How can you use the \"return\" statement in a Python function to return multiple values?"
   ]
  },
  {
   "cell_type": "code",
   "execution_count": 35,
   "id": "c812a90c",
   "metadata": {},
   "outputs": [
    {
     "name": "stdout",
     "output_type": "stream",
     "text": [
      "BMW INDIA 2023 X6\n"
     ]
    }
   ],
   "source": [
    "#Example of multiple return statement\n",
    "def attributes():\n",
    "    Brand=\"BMW\"\n",
    "    Country=\"INDIA\"\n",
    "    YOM=2023\n",
    "    MODEL=\"X6\"\n",
    "    return Brand,Country,YOM,MODEL\n",
    "\n",
    "brand,country,yom,model=attributes()\n",
    "print(brand,country,yom,model)"
   ]
  },
  {
   "cell_type": "code",
   "execution_count": 36,
   "id": "e7a3fded",
   "metadata": {},
   "outputs": [],
   "source": [
    "#7. What is the difference between the \"pass by value\" and \"pass by reference\" concepts when it comes \n",
    "#to function arguments in Python?"
   ]
  },
  {
   "cell_type": "raw",
   "id": "3f5b9e1e",
   "metadata": {},
   "source": [
    "When a function is called, the arguments in a function can be passed by value or passed by reference.\n",
    "Callee is a function called by another and the caller is a function that calls another function (the callee).\n",
    "The values that are passed in the function call are called the actual parameters.\n",
    "The values received by the function (when it is called ) are called the formal parameters.\n",
    "\n",
    "Pass by value means that a copy of the actual parameter’s value is made in memory, i.e. the caller and callee have two independent variables with the same value. If the callee modifies the parameter value, the effect is not visible to the caller.\n",
    "\n",
    "Pass by reference (also called pass by address) means to pass the reference of an argument in the calling function to the corresponding formal parameter of the called function so that a copy of the address of the actual parameter is made in memory, i.e. the caller and the callee use the same variable for the parameter. If the callee modifies the parameter variable, the effect is visible to the caller’s variable."
   ]
  },
  {
   "cell_type": "code",
   "execution_count": 2,
   "id": "c2feead9",
   "metadata": {},
   "outputs": [
    {
     "name": "stdout",
     "output_type": "stream",
     "text": [
      "Before function call  100\n",
      "Inside function call  200\n",
      "After function call  100\n"
     ]
    }
   ],
   "source": [
    "# Example for Pass by Value\n",
    "\n",
    "def function(i):\n",
    "    i+=100\n",
    "    print(\"Inside function call \",i)\n",
    "\n",
    "i=100\n",
    "\n",
    "print(\"Before function call \",i)\n",
    "function(i)\n",
    "print(\"After function call \",i)"
   ]
  },
  {
   "cell_type": "code",
   "execution_count": 4,
   "id": "f8acec37",
   "metadata": {},
   "outputs": [
    {
     "name": "stdout",
     "output_type": "stream",
     "text": [
      "Before function call ['A']\n",
      "Inside function call ['A', 'B']\n",
      "After function call ['A', 'B']\n"
     ]
    }
   ],
   "source": [
    "# Example for Pass by Value\n",
    "\n",
    "def function(l):\n",
    "    l.append('B')\n",
    "    print(\"Inside function call\",l)\n",
    "    \n",
    "l=['A']\n",
    "\n",
    "print(\"Before function call\",l)\n",
    "function(l)\n",
    "print(\"After function call\",l)"
   ]
  },
  {
   "cell_type": "raw",
   "id": "fb58dc7b",
   "metadata": {},
   "source": [
    "#8. Create a function that can intake integer or decimal value and do following operations:\n",
    "a. Logarithmic function (log x)\n",
    "b. Exponential function (exp(x))\n",
    "c. Power function with base 2 (2 ^ x)\n",
    "d. Square root"
   ]
  },
  {
   "cell_type": "code",
   "execution_count": 15,
   "id": "971a2823",
   "metadata": {},
   "outputs": [
    {
     "name": "stdout",
     "output_type": "stream",
     "text": [
      "Enter a number :  4\n",
      "\n",
      "\n",
      "Logarthmic function =  1.3862943611198906\n",
      "Exponential function =  54.598150033144236\n",
      "Power function with base 2 = 16.0\n",
      "Square root = 2.0\n"
     ]
    }
   ],
   "source": [
    "import math\n",
    "x = int(input(\"Enter a number :  \"))\n",
    "print(\"\\n\")\n",
    "print(\"Logarthmic function = \",math.log(x))\n",
    "print(\"Exponential function = \",math.exp(x))\n",
    "print(\"Power function with base 2 =\",math.pow(2,x))\n",
    "print(\"Square root =\",math.sqrt(x))"
   ]
  },
  {
   "cell_type": "code",
   "execution_count": 16,
   "id": "4a8ca719",
   "metadata": {},
   "outputs": [],
   "source": [
    "#9. Create a function that takes a full name as an argument and returns first name and last name"
   ]
  },
  {
   "cell_type": "code",
   "execution_count": 32,
   "id": "7c654535",
   "metadata": {},
   "outputs": [
    {
     "name": "stdout",
     "output_type": "stream",
     "text": [
      "Enter your fullname :Robert William\n",
      "Firstname is Robert Lastname is  William\n"
     ]
    }
   ],
   "source": [
    "def splitname(fullname):\n",
    "    firstname = fullname.split()[0]\n",
    "    lastname = fullname.split()[1]\n",
    "    return firstname,lastname\n",
    "\n",
    "fullname = input(\"Enter your fullname :\")\n",
    "first,last = splitname(fullname)\n",
    "\n",
    "print(\"Firstname is\",first,\"Lastname is \",last)"
   ]
  }
 ],
 "metadata": {
  "kernelspec": {
   "display_name": "Python 3 (ipykernel)",
   "language": "python",
   "name": "python3"
  },
  "language_info": {
   "codemirror_mode": {
    "name": "ipython",
    "version": 3
   },
   "file_extension": ".py",
   "mimetype": "text/x-python",
   "name": "python",
   "nbconvert_exporter": "python",
   "pygments_lexer": "ipython3",
   "version": "3.10.9"
  }
 },
 "nbformat": 4,
 "nbformat_minor": 5
}
