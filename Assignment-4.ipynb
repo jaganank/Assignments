{
 "cells": [
  {
   "cell_type": "code",
   "execution_count": 1,
   "id": "d9494f3d-0e72-4051-acfb-fbd20917abf2",
   "metadata": {},
   "outputs": [],
   "source": [
    "#1. What exactly is []?"
   ]
  },
  {
   "cell_type": "raw",
   "id": "447402d7-db52-4b8f-b3c9-355dc5b680de",
   "metadata": {},
   "source": [
    "It is list datatype. Lists are used to store multiple items in a single variable. \n",
    "Lists are one of 4 built-in data types in Python used to store collections of data"
   ]
  },
  {
   "cell_type": "code",
   "execution_count": 2,
   "id": "57319d7d-a473-4e7e-a0b6-51b2fd31ab47",
   "metadata": {},
   "outputs": [
    {
     "data": {
      "text/plain": [
       "list"
      ]
     },
     "execution_count": 2,
     "metadata": {},
     "output_type": "execute_result"
    }
   ],
   "source": [
    "type([])"
   ]
  },
  {
   "cell_type": "code",
   "execution_count": 3,
   "id": "cbb43752-4ee6-4349-beae-e085a4e9156f",
   "metadata": {},
   "outputs": [],
   "source": [
    "#2. In a list of values stored in a variable called spam, how would you assign the value 'hello' as the third value? (Assume [2, 4, 6, 8, 10] are in spam.)\n",
    "#Let's pretend the spam includes the list ['a', 'b', 'c', 'd'] for the next three queries."
   ]
  },
  {
   "cell_type": "code",
   "execution_count": 4,
   "id": "b71e12b7-db14-4c28-9be6-146c2ace8454",
   "metadata": {},
   "outputs": [],
   "source": [
    "spam = [2,4,6,8,10]"
   ]
  },
  {
   "cell_type": "code",
   "execution_count": 5,
   "id": "14c8ce30-3dad-4c5d-8000-a26d5ca8bba8",
   "metadata": {},
   "outputs": [],
   "source": [
    "spam.insert(2,\"hello\")"
   ]
  },
  {
   "cell_type": "code",
   "execution_count": 6,
   "id": "7402cd05-94a1-4dc8-adec-cdc8f81524e5",
   "metadata": {},
   "outputs": [
    {
     "data": {
      "text/plain": [
       "[2, 4, 'hello', 6, 8, 10]"
      ]
     },
     "execution_count": 6,
     "metadata": {},
     "output_type": "execute_result"
    }
   ],
   "source": [
    "spam"
   ]
  },
  {
   "cell_type": "code",
   "execution_count": 7,
   "id": "9d781501-628e-4e2a-978d-16c30ed37e0a",
   "metadata": {},
   "outputs": [],
   "source": [
    "#3. What is the value of spam[int(int('3' * 2) / 11)]?"
   ]
  },
  {
   "cell_type": "code",
   "execution_count": 8,
   "id": "c33aa400-d43c-4bc8-bc0c-42b2542c6923",
   "metadata": {},
   "outputs": [],
   "source": [
    "spam = ['a', 'b', 'c', 'd']"
   ]
  },
  {
   "cell_type": "code",
   "execution_count": 9,
   "id": "5aa4149c-f4e3-40cb-8a80-d42a6bbe3d48",
   "metadata": {},
   "outputs": [
    {
     "data": {
      "text/plain": [
       "'d'"
      ]
     },
     "execution_count": 9,
     "metadata": {},
     "output_type": "execute_result"
    }
   ],
   "source": [
    "spam[int(int('3' * 2) / 11)]"
   ]
  },
  {
   "cell_type": "code",
   "execution_count": 10,
   "id": "86dbe1e2-70e1-4692-89a1-cab50e8d0b72",
   "metadata": {},
   "outputs": [],
   "source": [
    "#4. What is the value of spam[-1]?"
   ]
  },
  {
   "cell_type": "code",
   "execution_count": 11,
   "id": "9f2c4280-9428-4f84-8807-420fb9bc7919",
   "metadata": {},
   "outputs": [
    {
     "data": {
      "text/plain": [
       "'d'"
      ]
     },
     "execution_count": 11,
     "metadata": {},
     "output_type": "execute_result"
    }
   ],
   "source": [
    "spam[-1]"
   ]
  },
  {
   "cell_type": "code",
   "execution_count": 12,
   "id": "e23489da-300f-4bae-a535-f18776941774",
   "metadata": {},
   "outputs": [],
   "source": [
    "#5. What is the value of spam[:2]?"
   ]
  },
  {
   "cell_type": "code",
   "execution_count": 13,
   "id": "5a5f473d-7c27-4e1a-bd18-690d1ab07314",
   "metadata": {},
   "outputs": [
    {
     "data": {
      "text/plain": [
       "['a', 'b']"
      ]
     },
     "execution_count": 13,
     "metadata": {},
     "output_type": "execute_result"
    }
   ],
   "source": [
    "spam[:2]"
   ]
  },
  {
   "cell_type": "code",
   "execution_count": 14,
   "id": "acb30564-29a9-49de-b296-f17d7916a403",
   "metadata": {},
   "outputs": [],
   "source": [
    "#Let's pretend bacon has the list [3.14, 'cat,' 11, 'cat,' True] for the next three questions\n",
    "#6. What is the value of bacon.index('cat')?"
   ]
  },
  {
   "cell_type": "code",
   "execution_count": 15,
   "id": "a0f0ac3d-c47e-4abc-8358-6fcfd83f3236",
   "metadata": {},
   "outputs": [],
   "source": [
    "bacon = [3.14,'cat',11,'cat',True]"
   ]
  },
  {
   "cell_type": "code",
   "execution_count": 16,
   "id": "1dab2aed-7d95-427a-bba5-22e002862423",
   "metadata": {},
   "outputs": [
    {
     "data": {
      "text/plain": [
       "1"
      ]
     },
     "execution_count": 16,
     "metadata": {},
     "output_type": "execute_result"
    }
   ],
   "source": [
    "bacon.index('cat')"
   ]
  },
  {
   "cell_type": "code",
   "execution_count": 17,
   "id": "a04163d1-880a-4f58-add7-7fc4f27087ce",
   "metadata": {},
   "outputs": [],
   "source": [
    "#7. How does bacon.append(99) change the look of the list value in bacon?"
   ]
  },
  {
   "cell_type": "code",
   "execution_count": 18,
   "id": "82e8663a-2afd-4a43-94bb-384449262404",
   "metadata": {},
   "outputs": [],
   "source": [
    "bacon.append(99)"
   ]
  },
  {
   "cell_type": "code",
   "execution_count": 19,
   "id": "d88a7032-d5b7-4031-97ab-6b59363d022a",
   "metadata": {},
   "outputs": [
    {
     "data": {
      "text/plain": [
       "[3.14, 'cat', 11, 'cat', True, 99]"
      ]
     },
     "execution_count": 19,
     "metadata": {},
     "output_type": "execute_result"
    }
   ],
   "source": [
    "bacon"
   ]
  },
  {
   "cell_type": "code",
   "execution_count": 20,
   "id": "deeb55dc-759a-4639-98ac-4442880a07dc",
   "metadata": {},
   "outputs": [],
   "source": [
    "#8. How does bacon.remove('cat') change the look of the list in bacon?"
   ]
  },
  {
   "cell_type": "code",
   "execution_count": 21,
   "id": "b71cbc57-9a60-499e-a97e-d99f534a86e3",
   "metadata": {},
   "outputs": [],
   "source": [
    "bacon.remove('cat')"
   ]
  },
  {
   "cell_type": "code",
   "execution_count": 22,
   "id": "30cffaea-d01f-412b-bf71-07ac83105225",
   "metadata": {},
   "outputs": [
    {
     "data": {
      "text/plain": [
       "[3.14, 11, 'cat', True, 99]"
      ]
     },
     "execution_count": 22,
     "metadata": {},
     "output_type": "execute_result"
    }
   ],
   "source": [
    "bacon"
   ]
  },
  {
   "cell_type": "code",
   "execution_count": 23,
   "id": "751f4f03-4704-46e8-a916-61fcc0b5a572",
   "metadata": {},
   "outputs": [],
   "source": [
    "#9. What are the list concatenation and list replication operators?"
   ]
  },
  {
   "cell_type": "code",
   "execution_count": 25,
   "id": "7cb126d8-621c-43b0-a1b6-fb9ba02a23f9",
   "metadata": {},
   "outputs": [
    {
     "name": "stdout",
     "output_type": "stream",
     "text": [
      "Concatenation Operator[2, 4, 6, 8, 10, 1, 3, 5, 7, 9]\n"
     ]
    }
   ],
   "source": [
    "#Example for list concatenation operator\n",
    "\n",
    "l1 = [2,4,6,8,10]\n",
    "l2 = [1,3,5,7,9]\n",
    "\n",
    "for i in l2:\n",
    "    l1.append(i)\n",
    "print(\"Concatenation Operator\"+str(l1))"
   ]
  },
  {
   "cell_type": "code",
   "execution_count": 26,
   "id": "c49ca666-b33d-4813-a0af-943669c17c66",
   "metadata": {},
   "outputs": [
    {
     "name": "stdout",
     "output_type": "stream",
     "text": [
      "[1, 2, 3, 1, 2, 3, 1, 2, 3, 1, 2, 3]\n"
     ]
    }
   ],
   "source": [
    "#Example for list replication operator\n",
    "\n",
    "a = [1,2,3]\n",
    "b = a * 4\n",
    "print(b)"
   ]
  },
  {
   "cell_type": "code",
   "execution_count": 27,
   "id": "f4efbf2b-0742-4dad-9c82-99875100def2",
   "metadata": {},
   "outputs": [],
   "source": [
    "#10. What is difference between the list methods append() and insert()?"
   ]
  },
  {
   "cell_type": "raw",
   "id": "0e271cc9-d00d-46f2-b2d0-fadbd888ce4f",
   "metadata": {},
   "source": [
    "The difference between the two methods is that append() adds an item to the end of a list, whereas insert() inserts an item in a specified position in the list."
   ]
  },
  {
   "cell_type": "code",
   "execution_count": 1,
   "id": "0d116b0e-126e-4a2e-81e2-d906dd62ddfe",
   "metadata": {},
   "outputs": [
    {
     "name": "stdout",
     "output_type": "stream",
     "text": [
      "[1, 2, 3, 4, 45]\n"
     ]
    }
   ],
   "source": [
    "#Example for list append\n",
    "l = [1,2,3,4]\n",
    "l.append(45)\n",
    "print(l)"
   ]
  },
  {
   "cell_type": "code",
   "execution_count": 2,
   "id": "f76ff7eb-952d-40c1-8ef7-f171c577f73c",
   "metadata": {},
   "outputs": [
    {
     "name": "stdout",
     "output_type": "stream",
     "text": [
      "[1, [2, 3, 4, 5], 2, 3, 4, 45]\n"
     ]
    }
   ],
   "source": [
    "#Example for list insert\n",
    "l.insert(1,[2,3,4,5])\n",
    "print(l)"
   ]
  },
  {
   "cell_type": "code",
   "execution_count": 3,
   "id": "67a0e86b-1ebd-4357-8590-af8472885951",
   "metadata": {},
   "outputs": [
    {
     "name": "stdout",
     "output_type": "stream",
     "text": [
      "[1, [2, 3, 4, 5], 2, 3, 4, 'iNeuron', 45]\n"
     ]
    }
   ],
   "source": [
    "l.insert(5,'iNeuron')\n",
    "print(l)"
   ]
  },
  {
   "cell_type": "code",
   "execution_count": 4,
   "id": "f4921072-8f3c-4683-a82a-31d2c2dfedf9",
   "metadata": {},
   "outputs": [],
   "source": [
    "#11. What are the two methods for removing items from a list?"
   ]
  },
  {
   "cell_type": "raw",
   "id": "df930db5-9aaa-48b7-9a5f-0446d5edc885",
   "metadata": {},
   "source": [
    "To remove items (elements) from a list in Python, use the list functions pop(), and remove().\n",
    "The remove() method removes the first matching element (which is passed as an argument) from the list. \n",
    "The pop() method removes an element at a given index, and will also return the removed item."
   ]
  },
  {
   "cell_type": "code",
   "execution_count": 11,
   "id": "e02af23e-5262-4c48-8296-c6e2c1f3c011",
   "metadata": {},
   "outputs": [
    {
     "name": "stdout",
     "output_type": "stream",
     "text": [
      "[1, 2, 4, 5, 6]\n"
     ]
    }
   ],
   "source": [
    "#Example for remove \n",
    "l = [1,2,3,4,5,6]\n",
    "l.remove(3)\n",
    "print(l)"
   ]
  },
  {
   "cell_type": "code",
   "execution_count": 12,
   "id": "ab3bb0e3-8f65-4e1e-87ce-e8c3b77301e3",
   "metadata": {},
   "outputs": [
    {
     "name": "stdout",
     "output_type": "stream",
     "text": [
      "[1, 2, 4, 5]\n"
     ]
    }
   ],
   "source": [
    "#Example for pop\n",
    "l.pop()\n",
    "print(l)"
   ]
  },
  {
   "cell_type": "code",
   "execution_count": 13,
   "id": "fdc7d984-8ffb-4b25-a4f3-63ae995ef5be",
   "metadata": {},
   "outputs": [],
   "source": [
    "#12. Describe how list values and string values are identical."
   ]
  },
  {
   "cell_type": "raw",
   "id": "e26c3927-c76d-46b3-9d50-ec6b693a239c",
   "metadata": {},
   "source": [
    "The similarity between Lists and Strings in Python is that both are sequences. \n",
    "Both strings and lists have lengths: a string's length is the number of characters in the string; \n",
    "a list's length is the number of items in the list. \n",
    "Each character in a string as well as each item in a list has a position, also called an index."
   ]
  },
  {
   "cell_type": "code",
   "execution_count": 14,
   "id": "749b8170-d5a3-4733-965d-c32855f5735d",
   "metadata": {},
   "outputs": [],
   "source": [
    "#13. What's the difference between tuples and lists?"
   ]
  },
  {
   "cell_type": "raw",
   "id": "ea50df47-f08e-49f9-9708-c78530aeed3a",
   "metadata": {},
   "source": [
    "The key difference between the tuples and lists is that while the tuples are immutable objects the lists are mutable. \n",
    "Both lists and tuples can store any data such as integer, float, string, and dictionary.\n",
    "The length of a tuple is fixed, whereas the length of a list is variable. Therefore, lists can have a different sizes, but tuples cannot. \n",
    "Tuples are allocated large blocks of memory with lower overhead than lists because they are immutable; whereas for lists, small memory blocks are allocated."
   ]
  },
  {
   "cell_type": "code",
   "execution_count": 15,
   "id": "d403ac08-08ff-4c69-8e89-79a1750f2c79",
   "metadata": {},
   "outputs": [],
   "source": [
    "#14. How do you type a tuple value that only contains the integer 42?"
   ]
  },
  {
   "cell_type": "code",
   "execution_count": 19,
   "id": "e791d3c2-55bc-42b1-89c3-9a240068562c",
   "metadata": {},
   "outputs": [
    {
     "name": "stdout",
     "output_type": "stream",
     "text": [
      "(42,)\n"
     ]
    }
   ],
   "source": [
    "#We have to use trailing coma in the tuple\n",
    "t = (42,)\n",
    "print(t)"
   ]
  },
  {
   "cell_type": "code",
   "execution_count": 20,
   "id": "672e7767-41d4-4ff5-996f-8eb62e3dc504",
   "metadata": {},
   "outputs": [],
   "source": [
    "#15. How do you get a list value's tuple form? How do you get a tuple value's list form?"
   ]
  },
  {
   "cell_type": "raw",
   "id": "07ce3e93-d6ad-48a9-984b-4dc04cb5f70c",
   "metadata": {},
   "source": [
    "Using the tuple() built-in function\n",
    "An iterable can be passed as an input to the tuple () function, which will convert it to a tuple object. \n",
    "If we want to convert a Python list to a tuple, you can use the tuple() function to pass the full list as an argument, \n",
    "and it will return the tuple data type as an output."
   ]
  },
  {
   "cell_type": "code",
   "execution_count": 21,
   "id": "35e53499-e46c-4d33-89e7-9042c2052c75",
   "metadata": {},
   "outputs": [
    {
     "name": "stdout",
     "output_type": "stream",
     "text": [
      "('A', 'B', 'C', 'D')\n",
      "<class 'tuple'>\n"
     ]
    }
   ],
   "source": [
    "l=['A', 'B', 'C', 'D']\n",
    "tuple_names= tuple(i for i in l)\n",
    "print(tuple_names)\n",
    "print(type(tuple_names))"
   ]
  },
  {
   "cell_type": "code",
   "execution_count": 22,
   "id": "3cc40020-eba3-418e-9cf0-dbb26374073d",
   "metadata": {},
   "outputs": [
    {
     "name": "stdout",
     "output_type": "stream",
     "text": [
      "['A', 'B', 'C', 'D']\n",
      "<class 'list'>\n"
     ]
    }
   ],
   "source": [
    "l=list(i for i in tuple_names)\n",
    "print(l)\n",
    "print(type(l))"
   ]
  },
  {
   "cell_type": "code",
   "execution_count": 23,
   "id": "caed5bc3-a0b4-4c02-83e0-ee1aaa247361",
   "metadata": {},
   "outputs": [],
   "source": [
    "#16. Variables that \"contain\" list values are not necessarily lists themselves. Instead, what do they contain?"
   ]
  },
  {
   "cell_type": "raw",
   "id": "b6284b3a-f7cf-4904-a04d-d034057ab195",
   "metadata": {},
   "source": [
    "Variables will contain references to list values rather than list values themselves.\n",
    "Lists are used to store multiple items in a single variable.\n",
    "A variable is a name, a label, which points to a specific memory location. We use variables so that we have an easier time remembering where is our data in computer memory. A list is a data structure which can hold multiple values. We can also give a name to a list, then this name is a variable."
   ]
  },
  {
   "cell_type": "code",
   "execution_count": 24,
   "id": "e53f9233-ade7-41f9-9e6d-d1cfb5f11894",
   "metadata": {},
   "outputs": [],
   "source": [
    "#17. How do you distinguish between copy.copy() and copy.deepcopy()?"
   ]
  },
  {
   "cell_type": "raw",
   "id": "5022dd32-10a0-4783-8017-eb4c8c8682b5",
   "metadata": {},
   "source": [
    "In Python, Assignment statements do not copy objects, they create bindings between a target and an object. When we use the = operator, It only creates a new variable that shares the reference of the original object. In order to create “real copies” or “clones” of these objects, we can use the copy module in Python."
   ]
  },
  {
   "cell_type": "code",
   "execution_count": 25,
   "id": "fb9eb7bf-9da3-4a66-80d7-d2dec41d43d0",
   "metadata": {},
   "outputs": [
    {
     "name": "stdout",
     "output_type": "stream",
     "text": [
      "li2 ID:  140378818753152 Value:  [1, 2, [3, 5], 4]\n",
      "li3 ID:  140378820795264 Value:  [1, 2, [3, 5], 4]\n"
     ]
    }
   ],
   "source": [
    "# Example of copy and deepcopy\n",
    "\n",
    "# importing copy module\n",
    "import copy\n",
    " \n",
    "# initializing list 1\n",
    "li1 = [1, 2, [3, 5], 4]\n",
    " \n",
    "# using copy for shallow copy\n",
    "li2 = copy.copy(li1)\n",
    "print(\"li2 ID: \", id(li2), \"Value: \", li2)\n",
    "# using deepcopy for deepcopy\n",
    "li3 = copy.deepcopy(li1)\n",
    "print(\"li3 ID: \", id(li3), \"Value: \", li3)"
   ]
  },
  {
   "cell_type": "raw",
   "id": "32ed8103-7ecf-4276-b386-046d6bcf29b9",
   "metadata": {},
   "source": [
    "In order to make these copies, we use the copy module. The copy() returns a shallow copy of the list, and deepcopy() returns a deep copy of the list. As you can see that both have the same value but have different IDs.\n",
    "A deep copy creates a new compound object before inserting copies of the items found in the original into it in a recursive manner. \n",
    "It means first constructing a new collection object and then recursively populating it with copies of the child objects found in the original. \n",
    "In the case of deep copy, a copy of the object is copied into another object. It means that any changes made to a copy of the object do not reflect in the original object. "
   ]
  },
  {
   "cell_type": "code",
   "execution_count": 26,
   "id": "4d8ce68c-bc92-426c-8807-18b19cdcc71c",
   "metadata": {},
   "outputs": [
    {
     "name": "stdout",
     "output_type": "stream",
     "text": [
      "Original list items\n",
      "1 2 [3, 5] 8 \n",
      "Changes made after deep copy\n",
      "1 2 [7, 5] 8 \n",
      "Original list remains same after deep copy\n",
      "1 2 [3, 5] 8 "
     ]
    }
   ],
   "source": [
    "# Example of deepcopy\n",
    "import copy\n",
    "l1 = [1,2,[3,5],8]\n",
    "l2 = copy.deepcopy(l1)\n",
    "print(\"Original list items\")\n",
    "for i in range(0,len(l1)):\n",
    "    print(l1[i],end=\" \")\n",
    "print(\"\\r\")\n",
    "l2[2][0] = 7\n",
    "print(\"Changes made after deep copy\")\n",
    "for i in range(0,len(l2)):\n",
    "    print(l2[i],end=\" \")\n",
    "print(\"\\r\")\n",
    "print(\"Original list remains same after deep copy\")\n",
    "for i in range(0,len(l1)):\n",
    "    print(l1[i],end=\" \")"
   ]
  },
  {
   "cell_type": "code",
   "execution_count": null,
   "id": "0d7f4fc6-491f-4307-b2ad-5719f224414c",
   "metadata": {},
   "outputs": [],
   "source": []
  }
 ],
 "metadata": {
  "kernelspec": {
   "display_name": "Python 3 (ipykernel)",
   "language": "python",
   "name": "python3"
  },
  "language_info": {
   "codemirror_mode": {
    "name": "ipython",
    "version": 3
   },
   "file_extension": ".py",
   "mimetype": "text/x-python",
   "name": "python",
   "nbconvert_exporter": "python",
   "pygments_lexer": "ipython3",
   "version": "3.10.6"
  }
 },
 "nbformat": 4,
 "nbformat_minor": 5
}
