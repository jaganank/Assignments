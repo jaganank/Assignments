{
 "cells": [
  {
   "cell_type": "code",
   "execution_count": 1,
   "id": "b4a67573",
   "metadata": {},
   "outputs": [],
   "source": [
    "#1. What is the role of try and exception block?"
   ]
  },
  {
   "cell_type": "raw",
   "id": "3a22a5c4",
   "metadata": {},
   "source": [
    "The try and except block in Python is used to catch and handle exceptions. Python executes code following the try statement as a “normal” part of the program. The code that follows the except statement is the program's response to any exceptions in the preceding try clause."
   ]
  },
  {
   "cell_type": "code",
   "execution_count": 2,
   "id": "28404e45",
   "metadata": {},
   "outputs": [],
   "source": [
    "#2. What is the syntax for a basic try-except block?"
   ]
  },
  {
   "cell_type": "raw",
   "id": "5dbfbed1",
   "metadata": {},
   "source": [
    "try:\n",
    "# There can be errors in this block\n",
    "    \n",
    "except <error type>:\n",
    "# Do this to handle exception;\n",
    "# executed if the try block throws an error"
   ]
  },
  {
   "cell_type": "code",
   "execution_count": 3,
   "id": "b4a14882",
   "metadata": {},
   "outputs": [
    {
     "name": "stdout",
     "output_type": "stream",
     "text": [
      "An exception occurred\n"
     ]
    }
   ],
   "source": [
    "#Example for basic try and except block\n",
    "try:\n",
    "    print(x)\n",
    "except:\n",
    "    print(\"An exception occurred\")"
   ]
  },
  {
   "cell_type": "code",
   "execution_count": 4,
   "id": "e9948590",
   "metadata": {},
   "outputs": [],
   "source": [
    "#3. What happens if an exception occurs inside a try block and there is no matching except block?"
   ]
  },
  {
   "cell_type": "raw",
   "id": "9032a15c",
   "metadata": {},
   "source": [
    "If an exception occurs which does not match the exception named in the except clause, it is passed on to outer try statements; if no handler is found, it is an unhandled exception and execution stops with a message.The subsequent block will be executed only if the specified exception occurs. There may be multiple except clauses with different exception types in a single try block. If the type of exception doesn't match any of the except blocks, it will remain unhandled and the program will terminate."
   ]
  },
  {
   "cell_type": "code",
   "execution_count": 5,
   "id": "bf41e401",
   "metadata": {},
   "outputs": [],
   "source": [
    "#4. What is the difference between using a bare except block and specifying a specific exception type?"
   ]
  },
  {
   "cell_type": "raw",
   "id": "0f48aad9",
   "metadata": {},
   "source": [
    "A bare except: clause will catch SystemExit and KeyboardInterrupt exceptions, making it harder to interrupt a program with Control-C, and can disguise other problems. If you want to catch all exceptions that signal program errors, use except Exception: (bare except is equivalent to except BaseException:).Catching every exception could cause our application to fail without us really knowing why"
   ]
  },
  {
   "cell_type": "code",
   "execution_count": 1,
   "id": "0697248c",
   "metadata": {},
   "outputs": [],
   "source": [
    "# Example of bare except - the user will just get a generic error message saying the file upload failed.\n",
    "def upload_proof_of_address_doc(file):\n",
    "    try:\n",
    "        status = upload_pdf_to_s3(file)\n",
    "        send_notifications(status)\n",
    "\n",
    "    except:\n",
    "        print(\"File upload failed.\")    \n",
    "        raise"
   ]
  },
  {
   "cell_type": "code",
   "execution_count": 3,
   "id": "da286df3",
   "metadata": {},
   "outputs": [],
   "source": [
    "#5. Can you have nested try-except blocks in Python? If yes, then give an example."
   ]
  },
  {
   "cell_type": "code",
   "execution_count": 4,
   "id": "b96d498c",
   "metadata": {},
   "outputs": [
    {
     "name": "stdout",
     "output_type": "stream",
     "text": [
      "outer try block\n",
      "outer except block\n",
      "outer finally block\n"
     ]
    }
   ],
   "source": [
    "try:\n",
    "    print(\"outer try block\")\n",
    "    print(10/0)\n",
    "    try:\n",
    "        print(\"Inner try block\")\n",
    "    except ZeroDivisionError:\n",
    "        print(\"Inner except block\")\n",
    "    finally:\n",
    "        print(\"Inner finally block\")\n",
    "except:\n",
    "    print(\"outer except block\")\n",
    "finally:\n",
    "    print(\"outer finally block\")"
   ]
  },
  {
   "cell_type": "code",
   "execution_count": 5,
   "id": "f3d8b47c",
   "metadata": {},
   "outputs": [],
   "source": [
    "#6. Can we use multiple exception blocks, if yes then give an example"
   ]
  },
  {
   "cell_type": "code",
   "execution_count": 7,
   "id": "7256c832",
   "metadata": {},
   "outputs": [
    {
     "name": "stdout",
     "output_type": "stream",
     "text": [
      "a\n",
      "b\n",
      "invalid literal for int() with base 10: 'b'\n"
     ]
    }
   ],
   "source": [
    "string = input()\n",
    "try:\n",
    "    num = int(input())\n",
    "    print(string+num)\n",
    "except(TypeError,ValueError) as e:\n",
    "    print(e)"
   ]
  },
  {
   "cell_type": "code",
   "execution_count": 8,
   "id": "3aab47cd",
   "metadata": {},
   "outputs": [
    {
     "name": "stdout",
     "output_type": "stream",
     "text": [
      "a\n",
      "2\n",
      "can only concatenate str (not \"int\") to str\n"
     ]
    }
   ],
   "source": [
    "string = input()\n",
    "try:\n",
    "    num = int(input())\n",
    "    print(string+num)\n",
    "except(TypeError,ValueError) as e:\n",
    "    print(e)"
   ]
  },
  {
   "cell_type": "raw",
   "id": "61731927",
   "metadata": {},
   "source": [
    "7. Write the reason due to which following errors are raised:\n",
    "a. EOFError\n",
    "b. FloatingPointError\n",
    "c. IndexError\n",
    "d. MemoryError\n",
    "e. OverflowError\n",
    "f. TabError\n",
    "g. ValueError"
   ]
  },
  {
   "cell_type": "raw",
   "id": "af6c4edf",
   "metadata": {},
   "source": [
    "#a. EOFError\n",
    "This error occurs when Python has reached the end of user input without receiving any input. The reason that EOFError occurs is that Python attempts to print out your input in variable string when no data is given"
   ]
  },
  {
   "cell_type": "code",
   "execution_count": null,
   "id": "d6788a86",
   "metadata": {},
   "outputs": [],
   "source": [
    "#Example should be run on IDE with ctrl+z or ctrl+d at end of input\n",
    "while True:\n",
    "    try:\n",
    "        user_input = input(\"Enter some text: \")\n",
    "        print(f\"You entered: {user_input}\")\n",
    "    except EOFError:\n",
    "        print(\"EOFError caught. Exiting loop.\")\n",
    "        break        "
   ]
  },
  {
   "cell_type": "raw",
   "id": "e110d9a5",
   "metadata": {},
   "source": [
    "#b. FloatingPointError\n",
    "This error occurs when a floating-point calculation is attempted that is not supported by the available hardware or software. It occurs when trying to calculate a number that is too large or too small to represent as a floating-point number."
   ]
  },
  {
   "cell_type": "code",
   "execution_count": 6,
   "id": "293218ee",
   "metadata": {},
   "outputs": [
    {
     "name": "stdout",
     "output_type": "stream",
     "text": [
      "0.19999999999999996\n"
     ]
    }
   ],
   "source": [
    "try:\n",
    "    a = 1.2\n",
    "    b = 1.0\n",
    "    c = a - b \n",
    "    print(c)\n"
   ]
  },
  {
   "cell_type": "raw",
   "id": "caa3c691",
   "metadata": {},
   "source": [
    "#c. IndexError\n",
    "IndexError is an exception in python that occurs when we try to access an element from a list or tuple from an index that is not present in the list. "
   ]
  },
  {
   "cell_type": "code",
   "execution_count": 1,
   "id": "27140e82",
   "metadata": {},
   "outputs": [
    {
     "name": "stdout",
     "output_type": "stream",
     "text": [
      "Out of list index range\n"
     ]
    }
   ],
   "source": [
    "#Example for IndexError\n",
    "try:\n",
    "    list1 = [2,3,4,5]\n",
    "    print(list1[4])\n",
    "\n",
    "except  IndexError:\n",
    "    print(\"Out of list index range\")"
   ]
  },
  {
   "cell_type": "raw",
   "id": "d25705c8",
   "metadata": {},
   "source": [
    "#d. MemoryError\n",
    "The interpreter has run out of memory to allocate to your Python program. This may be due to an issue in the setup of the Python environment or it may be a concern with the code itself loading too much data at the same time."
   ]
  },
  {
   "cell_type": "code",
   "execution_count": 2,
   "id": "653df57e",
   "metadata": {},
   "outputs": [
    {
     "name": "stdout",
     "output_type": "stream",
     "text": [
      "Insufficient Memory for list\n"
     ]
    }
   ],
   "source": [
    "#Example for MemoryError\n",
    "try:\n",
    "    big_list = [1] * (10 ** 12)\n",
    "except MemoryError:\n",
    "    print(\"Insufficient Memory for list\")"
   ]
  },
  {
   "cell_type": "raw",
   "id": "c7a4765e",
   "metadata": {},
   "source": [
    "#e. OverflowError\n",
    "This is an error that occurs when a calculation exceeds the maximum limit of a data type."
   ]
  },
  {
   "cell_type": "code",
   "execution_count": 1,
   "id": "8c285694",
   "metadata": {},
   "outputs": [
    {
     "ename": "OverflowError",
     "evalue": "(34, 'Result too large')",
     "output_type": "error",
     "traceback": [
      "\u001b[1;31m---------------------------------------------------------------------------\u001b[0m",
      "\u001b[1;31mOverflowError\u001b[0m                             Traceback (most recent call last)",
      "Cell \u001b[1;32mIn[1], line 4\u001b[0m\n\u001b[0;32m      2\u001b[0m n \u001b[38;5;241m=\u001b[39m \u001b[38;5;241m8.0\u001b[39m\n\u001b[0;32m      3\u001b[0m \u001b[38;5;28;01mfor\u001b[39;00m i \u001b[38;5;129;01min\u001b[39;00m \u001b[38;5;28mrange\u001b[39m(\u001b[38;5;241m1\u001b[39m,\u001b[38;5;241m100\u001b[39m):\n\u001b[1;32m----> 4\u001b[0m     n \u001b[38;5;241m=\u001b[39m \u001b[43mn\u001b[49m\u001b[43m \u001b[49m\u001b[38;5;241;43m*\u001b[39;49m\u001b[38;5;241;43m*\u001b[39;49m\u001b[43m \u001b[49m\u001b[43mi\u001b[49m\n",
      "\u001b[1;31mOverflowError\u001b[0m: (34, 'Result too large')"
     ]
    }
   ],
   "source": [
    "#Example for OverFlowError\n",
    "n = 8.0\n",
    "for i in range(1,100):\n",
    "    n = n ** i"
   ]
  },
  {
   "cell_type": "code",
   "execution_count": 3,
   "id": "f705e39b",
   "metadata": {},
   "outputs": [
    {
     "name": "stdout",
     "output_type": "stream",
     "text": [
      "It is overflow error.\n"
     ]
    }
   ],
   "source": [
    "try:\n",
    "    n = 8.0\n",
    "    for i in range(1,100):\n",
    "        n = n ** i\n",
    "except OverflowError as e:\n",
    "    print(\"It is overflow error.\")"
   ]
  },
  {
   "cell_type": "raw",
   "id": "7592db31",
   "metadata": {},
   "source": [
    "#f. TabError\n",
    "It occurs when we mix tabs and spaces in the same code block. To solve the error, remove the spacing and only use tabs or spaces, but don't mix the two in the same code block."
   ]
  },
  {
   "cell_type": "code",
   "execution_count": 52,
   "id": "98641aae",
   "metadata": {},
   "outputs": [
    {
     "ename": "IndentationError",
     "evalue": "expected an indented block after 'try' statement on line 1 (729124289.py, line 2)",
     "output_type": "error",
     "traceback": [
      "\u001b[1;36m  Cell \u001b[1;32mIn[52], line 2\u001b[1;36m\u001b[0m\n\u001b[1;33m    if len('hi') == 2:\u001b[0m\n\u001b[1;37m    ^\u001b[0m\n\u001b[1;31mIndentationError\u001b[0m\u001b[1;31m:\u001b[0m expected an indented block after 'try' statement on line 1\n"
     ]
    }
   ],
   "source": [
    "try:\n",
    "if len('hi') == 2:\n",
    "print('a')\n",
    "   print('b')\n",
    "except (TabError,IndentationError) as e:\n",
    "    print(e)"
   ]
  },
  {
   "cell_type": "raw",
   "id": "b6c70e6c",
   "metadata": {},
   "source": [
    "#g. ValueError\n",
    "a ValueError occurs when a correct argument type but an incorrect value is supplied to a function. This type of inaccuracy is most common in mathematical operations."
   ]
  },
  {
   "cell_type": "code",
   "execution_count": 54,
   "id": "dc723ac7",
   "metadata": {},
   "outputs": [
    {
     "name": "stdout",
     "output_type": "stream",
     "text": [
      "Enter a number :12\n",
      "Enter another number :98.12\n",
      "Please enter correct data types\n"
     ]
    }
   ],
   "source": [
    "try:\n",
    "    \n",
    "    n1 = int(input(\"Enter a number :\"))\n",
    "    n2 = int (input(\"Enter another number :\"))\n",
    "    \n",
    "    result = n1 /n2\n",
    "    \n",
    "    print(\"Result is \",result)\n",
    "\n",
    "except ValueError:\n",
    "    print(\"Please enter correct data types\")"
   ]
  },
  {
   "cell_type": "raw",
   "id": "dee7418f",
   "metadata": {},
   "source": [
    "8. Write code for the following given scenario and add try-exception block to it.\n",
    "a. Program to divide two numbers\n",
    "b. Program to convert a string to an integer\n",
    "c. Program to access an element in a list\n",
    "d. Program to handle a specific exception\n",
    "e. Program to handle any exception"
   ]
  },
  {
   "cell_type": "code",
   "execution_count": 55,
   "id": "f65c253a",
   "metadata": {},
   "outputs": [
    {
     "name": "stdout",
     "output_type": "stream",
     "text": [
      "division by zero\n",
      "This will be my final code after handling exception\n"
     ]
    }
   ],
   "source": [
    "#a. Program to divide two numbers\n",
    "try:\n",
    "    a = 10\n",
    "    a/0\n",
    "except Exception as e:\n",
    "    print(e)\n",
    "    print(\"This will be my final code after handling exception\")"
   ]
  },
  {
   "cell_type": "code",
   "execution_count": 57,
   "id": "4f4bb9a3",
   "metadata": {},
   "outputs": [
    {
     "name": "stdout",
     "output_type": "stream",
     "text": [
      "Input\n",
      "125\n",
      "<class 'str'>\n",
      "\n",
      "Output\n",
      "125\n",
      "<class 'int'>\n"
     ]
    }
   ],
   "source": [
    "#b. Program to convert a string to an integer\n",
    "a = '125'\n",
    "print('Input', a, type(a), sep='\\n')\n",
    "\n",
    "output = int(a)\n",
    "print('\\nOutput', output, type(output), sep='\\n')"
   ]
  },
  {
   "cell_type": "code",
   "execution_count": 64,
   "id": "71d620ea",
   "metadata": {},
   "outputs": [
    {
     "name": "stdout",
     "output_type": "stream",
     "text": [
      "Input\n",
      "125.00\n",
      "<class 'str'>\n",
      "Not a String.Please check\n"
     ]
    }
   ],
   "source": [
    "#b. Program to convert a string to an integer\n",
    "try:\n",
    "    a = '125.00'\n",
    "    print('Input', a, type(a), sep='\\n')\n",
    "\n",
    "    output =int(a) \n",
    "    print('\\nOutput', output, type(output), sep='\\n')\n",
    "except (TypeError,ValueError):\n",
    "    print(\"Not a String.Please check\")"
   ]
  },
  {
   "cell_type": "code",
   "execution_count": 65,
   "id": "ac7c8814",
   "metadata": {},
   "outputs": [],
   "source": [
    "#c. Program to access an element in a list"
   ]
  },
  {
   "cell_type": "code",
   "execution_count": 68,
   "id": "a68580f0",
   "metadata": {},
   "outputs": [
    {
     "name": "stdout",
     "output_type": "stream",
     "text": [
      "4\n",
      "Out of list index range\n"
     ]
    }
   ],
   "source": [
    "try:\n",
    "    list1 = [2,3,4,5]\n",
    "    print(list1[2])\n",
    "    print(list1[4])\n",
    "\n",
    "except  IndexError:\n",
    "    print(\"Out of list index range\")"
   ]
  },
  {
   "cell_type": "code",
   "execution_count": 69,
   "id": "f7870848",
   "metadata": {},
   "outputs": [],
   "source": [
    "#d. Program to handle a specific exception"
   ]
  },
  {
   "cell_type": "code",
   "execution_count": 70,
   "id": "a7d3cfb6",
   "metadata": {},
   "outputs": [
    {
     "name": "stdout",
     "output_type": "stream",
     "text": [
      "Library does not exist in the system\n"
     ]
    }
   ],
   "source": [
    "try:\n",
    "    import Library121\n",
    "\n",
    "except ImportError:\n",
    "    print(\"Library does not exist in the system\")"
   ]
  },
  {
   "cell_type": "code",
   "execution_count": 2,
   "id": "ef6d1185",
   "metadata": {},
   "outputs": [],
   "source": [
    "#e. Program to handle any exception"
   ]
  },
  {
   "cell_type": "code",
   "execution_count": 14,
   "id": "fd993e70",
   "metadata": {},
   "outputs": [
    {
     "name": "stdout",
     "output_type": "stream",
     "text": [
      "ZeroDivisionError Occurred and Handled\n"
     ]
    }
   ],
   "source": [
    "def fun(a):\n",
    "    if a < 4:\n",
    "        b = a/(a-3)\n",
    "    print(\"Value of b = \", b)\n",
    "try:\n",
    "    fun(3)\n",
    "    fun(5)\n",
    "except ZeroDivisionError:\n",
    "    print(\"ZeroDivisionError Occurred and Handled\")\n",
    "except NameError:\n",
    "    print(\"NameError Occurred and Handled\")"
   ]
  },
  {
   "cell_type": "code",
   "execution_count": null,
   "id": "8d65fcf3",
   "metadata": {},
   "outputs": [],
   "source": []
  }
 ],
 "metadata": {
  "kernelspec": {
   "display_name": "Python 3 (ipykernel)",
   "language": "python",
   "name": "python3"
  },
  "language_info": {
   "codemirror_mode": {
    "name": "ipython",
    "version": 3
   },
   "file_extension": ".py",
   "mimetype": "text/x-python",
   "name": "python",
   "nbconvert_exporter": "python",
   "pygments_lexer": "ipython3",
   "version": "3.10.9"
  }
 },
 "nbformat": 4,
 "nbformat_minor": 5
}
