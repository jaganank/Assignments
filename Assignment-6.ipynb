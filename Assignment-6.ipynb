{
 "cells": [
  {
   "cell_type": "code",
   "execution_count": 1,
   "id": "e24b7571",
   "metadata": {},
   "outputs": [],
   "source": [
    "#Q.1. What are keywords in python? Using the keyword library, print all the python keywords."
   ]
  },
  {
   "cell_type": "raw",
   "id": "5e3f6271",
   "metadata": {},
   "source": [
    "Python keywords are special reserved words that have specific meanings and purposes and can't be used for anything but those specific purposes. "
   ]
  },
  {
   "cell_type": "code",
   "execution_count": 2,
   "id": "cf1c4377",
   "metadata": {},
   "outputs": [
    {
     "name": "stdout",
     "output_type": "stream",
     "text": [
      "['False', 'None', 'True', 'and', 'as', 'assert', 'async', 'await', 'break', 'class', 'continue', 'def', 'del', 'elif', 'else', 'except', 'finally', 'for', 'from', 'global', 'if', 'import', 'in', 'is', 'lambda', 'nonlocal', 'not', 'or', 'pass', 'raise', 'return', 'try', 'while', 'with', 'yield']\n"
     ]
    }
   ],
   "source": [
    "import keyword\n",
    "print(keyword.kwlist)"
   ]
  },
  {
   "cell_type": "code",
   "execution_count": 3,
   "id": "a96f6768",
   "metadata": {},
   "outputs": [],
   "source": [
    "#Q.2. What are the rules to create variables in python?"
   ]
  },
  {
   "cell_type": "raw",
   "id": "0341e386",
   "metadata": {},
   "source": [
    "A variable name must start with a letter or the underscore character.\n",
    "A variable name cannot start with a number.\n",
    "A variable name can only contain alpha-numeric characters and underscores (A-z, 0-9, and _ )\n",
    "Variable names are case-sensitive (age, Age and AGE are three different variables)"
   ]
  },
  {
   "cell_type": "code",
   "execution_count": 4,
   "id": "e144ff7d",
   "metadata": {},
   "outputs": [],
   "source": [
    "#Q.3. What are the standards and conventions followed for the nomenclature of variables in\n",
    "#python to improve code readability and maintainability?"
   ]
  },
  {
   "cell_type": "raw",
   "id": "92d8b3b6",
   "metadata": {},
   "source": [
    "Naming Conventions\n",
    "The following are the currently recommended naming standard.\n",
    "\n",
    "Avoid These Names\n",
    "Never use the characters ‘l’ (lowercase letter el), ‘O’ (uppercase letter oh), or ‘I’ (uppercase letter eye) as single character variable names.\n",
    "\n",
    "Package and Module Names\n",
    "Modules should have short, all-lowercase names. Underscores can be used in the module name if it improves readability. Python packages should also have short, all-lowercase names, although the use of underscores is discouraged.\n",
    "\n",
    "Name of Class\n",
    "Class names should normally use the CapWords convention. The naming convention for functions may be used instead in cases where the interface is documented and used primarily as a callable.\n",
    "\n",
    "Exception Names\n",
    "The class naming convention applies here. However, you should use the suffix “Error” on your exception names.\n",
    "\n",
    "Function and Variable Names\n",
    "Function names should be lowercase, with words separated by underscores as necessary to improve readability.\n",
    "\n",
    "Variable names follow the same convention as function names.\n",
    "\n",
    "Function and Method Arguments\n",
    "Always use self for the first argument to instance methods.\n",
    "\n",
    "Always use cls for the first argument to class methods.\n",
    "\n",
    "Method Names and Instance Variables\n",
    "Use the function naming rules: lowercase with words separated by underscores as necessary to improve readability.\n",
    "\n",
    "Use one leading underscore only for non-public methods and instance variables.\n",
    "\n",
    "To avoid name clashes with subclasses, use two leading underscores to invoke Python’s name mangling rules.\n",
    "\n",
    "Constants\n",
    "Constants are usually defined on a module level and written in all capital letters with underscores separating words.\n",
    "\n",
    "Indentation\n",
    "The guideline suggests using 4 spaces per indentation level.\n",
    "\n",
    "Tabs or Spaces\n",
    "Tabs should be used solely to remain consistent with code that is already indented with tabs.\n",
    "\n",
    "Python disallows mixing tabs and spaces for indentation.\n",
    "\n",
    "Maximum Line Length\n",
    "Limit all lines to a maximum of 79 characters."
   ]
  },
  {
   "cell_type": "code",
   "execution_count": 5,
   "id": "33824c80",
   "metadata": {},
   "outputs": [],
   "source": [
    "#Q.4. What will happen if a keyword is used as a variable name?"
   ]
  },
  {
   "cell_type": "raw",
   "id": "595ab27b",
   "metadata": {},
   "source": [
    "Keywords define the language's syntax rules and structure, and they cannot be used as variable names. Programmers generally choose names for their variables that are meaningful to the human readers of the program to remember what the variable is used for.We cannot use a keyword as a variable name, function name, or any other identifier. They are used to define the syntax and structure of the Python language. All the keywords except True , False and None are in lowercase and they must be written as they are."
   ]
  },
  {
   "cell_type": "code",
   "execution_count": 6,
   "id": "f073e223",
   "metadata": {},
   "outputs": [],
   "source": [
    "#Q.5. For what purpose def keyword is used?"
   ]
  },
  {
   "cell_type": "raw",
   "id": "d9dade33",
   "metadata": {},
   "source": [
    "def keyword is used to define a function, it is placed before a function name that is provided by the user to create a user-defined function. In Python, a function is a logical unit of code containing a sequence of statements indented under a name given using the “def” keyword."
   ]
  },
  {
   "cell_type": "code",
   "execution_count": 7,
   "id": "d2e7bafd",
   "metadata": {},
   "outputs": [],
   "source": [
    "#Example for def keyword\n",
    "def fun():\n",
    "    pass\n",
    "fun()"
   ]
  },
  {
   "cell_type": "code",
   "execution_count": 8,
   "id": "a9897555",
   "metadata": {},
   "outputs": [],
   "source": [
    "#Q.6. What is the operation of this special character ‘\\’?"
   ]
  },
  {
   "cell_type": "raw",
   "id": "a28e1e91",
   "metadata": {},
   "source": [
    "the backslash \"\\\" is a special character, also called the \"escape\" character. It is used in representing certain whitespace characters: \"\\t\" is a tab, \"\\n\" is a newline, and \"\\r\" is a carriage return. Conversely, prefixing a special character with \"\\\" turns it into an ordinary character."
   ]
  },
  {
   "cell_type": "code",
   "execution_count": 12,
   "id": "a6f5c7d3",
   "metadata": {},
   "outputs": [
    {
     "name": "stdout",
     "output_type": "stream",
     "text": [
      "\t\n",
      "\n",
      "\\string\n",
      "\r\n"
     ]
    }
   ],
   "source": [
    "#Example for \"\\\"\n",
    "print(\"\\t\\n\")\n",
    "print(\"\\string\")\n",
    "print(\"\\r\")"
   ]
  },
  {
   "cell_type": "code",
   "execution_count": 13,
   "id": "002b4592",
   "metadata": {},
   "outputs": [],
   "source": [
    "#Q.7. Give an example of the following conditions:\n",
    "#(i) Homogeneous list\n",
    "#(ii) Heterogeneous set\n",
    "#(iii) Homogeneous tuple"
   ]
  },
  {
   "cell_type": "raw",
   "id": "dfc48ef1",
   "metadata": {},
   "source": [
    "(i) Homogeneous list - Homogeneous means that it only contains a single type of data\n",
    "l = [1,2,3,4] or str = ['a','b','c','d']\n",
    "(ii) Heterogeneous set - Sets can store heterogeneous elements in it, i.e., a set can store a mixture of string, integer, boolean, etc datatypes\n",
    "l = {1,2,3,4,5,\"iNeuron\",45.67,True}\n",
    "(iii) Homogeneous tuple - Tuples usually contain a heterogeneous sequence of elements, while lists usually contain a homogeneous sequence. Homogeneous tuples can contain a sequence of similar data types"
   ]
  },
  {
   "cell_type": "code",
   "execution_count": 17,
   "id": "f3f884a9",
   "metadata": {},
   "outputs": [
    {
     "name": "stdout",
     "output_type": "stream",
     "text": [
      "[1, 2, 3, 4]\n",
      "['a', 'b', 'c', 'd']\n"
     ]
    }
   ],
   "source": [
    "#Example for (i) Homogeneous list\n",
    "l = [1,2,3,4]\n",
    "print(l)\n",
    "str = ['a','b','c','d']\n",
    "print(str)"
   ]
  },
  {
   "cell_type": "code",
   "execution_count": 19,
   "id": "e1991a92",
   "metadata": {},
   "outputs": [],
   "source": [
    "#Example for (i) Heterogeneous Set\n",
    "l = {1,2,3,4,5,\"iNeuron\",45.67,True}"
   ]
  },
  {
   "cell_type": "code",
   "execution_count": 20,
   "id": "b8a3874c",
   "metadata": {},
   "outputs": [
    {
     "name": "stdout",
     "output_type": "stream",
     "text": [
      "{1, 2, 3, 4, 5, 'iNeuron', 45.67}\n"
     ]
    },
    {
     "data": {
      "text/plain": [
       "set"
      ]
     },
     "execution_count": 20,
     "metadata": {},
     "output_type": "execute_result"
    }
   ],
   "source": [
    "print(l)\n",
    "type(l)"
   ]
  },
  {
   "cell_type": "code",
   "execution_count": 21,
   "id": "83f9154e",
   "metadata": {},
   "outputs": [
    {
     "name": "stdout",
     "output_type": "stream",
     "text": [
      "(3, 4, 5, 6)\n"
     ]
    },
    {
     "data": {
      "text/plain": [
       "tuple"
      ]
     },
     "execution_count": 21,
     "metadata": {},
     "output_type": "execute_result"
    }
   ],
   "source": [
    "#(iii) Homogeneous tuple\n",
    "t1 = (3,4,5,6)\n",
    "print(t1)\n",
    "type(t1)"
   ]
  },
  {
   "cell_type": "code",
   "execution_count": 22,
   "id": "6d956cdf",
   "metadata": {},
   "outputs": [],
   "source": [
    "#Q.8. Explain the mutable and immutable data types with proper explanation & examples."
   ]
  },
  {
   "cell_type": "raw",
   "id": "4719c143",
   "metadata": {},
   "source": [
    "mutable data types are those whose values can be changed after they are created, while immutable data types are those whose values cannot be changed but new values can be assigned\n",
    "Objects of built-in type that are mutable are:\n",
    "-----------------------------------------------\n",
    "Lists\n",
    "Sets\n",
    "Dictionaries\n",
    "User-Defined Classes \n",
    "Objects of built-in type that are immutable are:\n",
    "-----------------------------------------------\n",
    "Numbers (Integer, Rational, Float, Decimal, Complex & Booleans)\n",
    "Strings\n",
    "Tuples\n",
    "Frozen Sets\n",
    "User-Defined Classes"
   ]
  },
  {
   "cell_type": "code",
   "execution_count": 34,
   "id": "b4f8e66c",
   "metadata": {},
   "outputs": [
    {
     "name": "stdout",
     "output_type": "stream",
     "text": [
      "Original List:  ['Grapes', 'Apple', 'Orange', 'Pineapple']\n",
      "After Modification : ['Papaya', 'Apple', 'Orange', 'Banana']\n"
     ]
    }
   ],
   "source": [
    "#Example for Mutable data types\n",
    "fruits = [\"Grapes\",\"Apple\",\"Orange\",\"Pineapple\"]\n",
    "\n",
    "print(\"Original List: \",fruits)\n",
    "\n",
    "fruits[0] = \"Papaya\"\n",
    "fruits[-1] = \"Banana\"\n",
    "\n",
    "print(\"After Modification :\",fruits)"
   ]
  },
  {
   "cell_type": "code",
   "execution_count": 35,
   "id": "aeef2e3f",
   "metadata": {},
   "outputs": [
    {
     "name": "stdout",
     "output_type": "stream",
     "text": [
      "Original String Value iNeuron\n"
     ]
    },
    {
     "ename": "TypeError",
     "evalue": "'str' object does not support item assignment",
     "output_type": "error",
     "traceback": [
      "\u001b[1;31m---------------------------------------------------------------------------\u001b[0m",
      "\u001b[1;31mTypeError\u001b[0m                                 Traceback (most recent call last)",
      "Cell \u001b[1;32mIn[35], line 5\u001b[0m\n\u001b[0;32m      1\u001b[0m \u001b[38;5;28mstr\u001b[39m \u001b[38;5;241m=\u001b[39m \u001b[38;5;124m\"\u001b[39m\u001b[38;5;124miNeuron\u001b[39m\u001b[38;5;124m\"\u001b[39m\n\u001b[0;32m      3\u001b[0m \u001b[38;5;28mprint\u001b[39m(\u001b[38;5;124m\"\u001b[39m\u001b[38;5;124mOriginal String Value\u001b[39m\u001b[38;5;124m\"\u001b[39m,\u001b[38;5;28mstr\u001b[39m)\n\u001b[1;32m----> 5\u001b[0m \u001b[38;5;28mstr\u001b[39m[\u001b[38;5;241m0\u001b[39m] \u001b[38;5;241m=\u001b[39m \u001b[38;5;124m\"\u001b[39m\u001b[38;5;124mj\u001b[39m\u001b[38;5;124m\"\u001b[39m\n",
      "\u001b[1;31mTypeError\u001b[0m: 'str' object does not support item assignment"
     ]
    }
   ],
   "source": [
    "#Example for IMMutable data types\n",
    "str = \"iNeuron\"\n",
    "\n",
    "print(\"Original String Value\",str)\n",
    "\n",
    "str[0] = \"j\""
   ]
  },
  {
   "cell_type": "raw",
   "id": "453fbb86",
   "metadata": {},
   "source": [
    "#Q.9. Write a code to create the given structure using only for loop\n",
    "    *\n",
    "   ***\n",
    "  *****\n",
    " *******\n",
    "*********"
   ]
  },
  {
   "cell_type": "code",
   "execution_count": 42,
   "id": "d4dd02bc",
   "metadata": {},
   "outputs": [
    {
     "name": "stdout",
     "output_type": "stream",
     "text": [
      "    *\n",
      "   ***\n",
      "  *****\n",
      " *******\n",
      "*********\n"
     ]
    }
   ],
   "source": [
    "n = 5\n",
    "for i in range(n):\n",
    "    for j in range(n-i-1):\n",
    "        print(\" \",end=\"\")\n",
    "    for j in range(2 * i + 1):\n",
    "        print(\"*\",end=\"\")\n",
    "    print(\"\")\n",
    "    "
   ]
  },
  {
   "cell_type": "raw",
   "id": "ef9fa603",
   "metadata": {},
   "source": [
    "#Q.10. Write a code to create the given structure using while loop.\n",
    "|||||||||\n",
    " |||||||\n",
    "  |||||\n",
    "   |||\n",
    "    |"
   ]
  },
  {
   "cell_type": "code",
   "execution_count": 47,
   "id": "5f98bc8d",
   "metadata": {},
   "outputs": [
    {
     "name": "stdout",
     "output_type": "stream",
     "text": [
      "|||||||||\n",
      " |||||||\n",
      "  |||||\n",
      "   |||\n",
      "    |\n"
     ]
    }
   ],
   "source": [
    "n = 5\n",
    "for i in range(n):\n",
    "    for j in range(i):\n",
    "        print(\" \",end=\"\")\n",
    "    for j in range(2 * (n - i) - 1):\n",
    "        print(\"|\",end=\"\")\n",
    "    print(\"\")"
   ]
  },
  {
   "cell_type": "code",
   "execution_count": null,
   "id": "d8d5f8e6",
   "metadata": {},
   "outputs": [],
   "source": []
  }
 ],
 "metadata": {
  "kernelspec": {
   "display_name": "Python 3 (ipykernel)",
   "language": "python",
   "name": "python3"
  },
  "language_info": {
   "codemirror_mode": {
    "name": "ipython",
    "version": 3
   },
   "file_extension": ".py",
   "mimetype": "text/x-python",
   "name": "python",
   "nbconvert_exporter": "python",
   "pygments_lexer": "ipython3",
   "version": "3.10.9"
  }
 },
 "nbformat": 4,
 "nbformat_minor": 5
}
