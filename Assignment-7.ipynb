{
 "cells": [
  {
   "cell_type": "raw",
   "id": "ee323762",
   "metadata": {},
   "source": [
    "Q.1. Create two int type variables, apply addition, subtraction, division and multiplications\n",
    "and store the results in variables. Then print the data in the following format by calling the\n",
    "variables:\n",
    "First variable is __ & second variable is __.\n",
    "Addition: __ + __ = __\n",
    "Subtraction: __ - __ = __\n",
    "Multiplication: __ * __ = __\n",
    "Division: __ / __ = __"
   ]
  },
  {
   "cell_type": "code",
   "execution_count": 3,
   "id": "2486b1d7",
   "metadata": {},
   "outputs": [
    {
     "name": "stdout",
     "output_type": "stream",
     "text": [
      "Enter First Variable 7\n",
      "Enter Second Variable 3\n",
      "First variable is  7 Second variable is  3\n",
      "Addition:  7 + 3 = 10\n",
      "Subtraction:  7 - 3 = 4\n",
      "Multiplication:  7 * 3 = 21\n",
      "Division:  7 / 3 = 2.3333333333333335\n"
     ]
    }
   ],
   "source": [
    "num1 =int(input(\"Enter First Variable \"))\n",
    "num2 = int(input(\"Enter Second Variable \"))\n",
    "print(\"First variable is \",num1,\"Second variable is \",num2)\n",
    "print(\"Addition: \",num1,\"+\",num2,\"=\",(num1 + num2))\n",
    "print(\"Subtraction: \",num1,\"-\",num2,\"=\",(num1 - num2))\n",
    "print(\"Multiplication: \",num1,\"*\",num2,\"=\",(num1 * num2))\n",
    "print(\"Division: \",num1,\"/\",num2,\"=\",(num1 / num2))"
   ]
  },
  {
   "cell_type": "raw",
   "id": "e3b2c0b0",
   "metadata": {},
   "source": [
    "Q.2. What is the difference between the following operators:\n",
    "(i) ‘/’ & ‘//’\n",
    "(ii) ‘**’ & ‘^’"
   ]
  },
  {
   "cell_type": "raw",
   "id": "3a1df0d2",
   "metadata": {},
   "source": [
    "'/' is used for the normal division of two numbers.\n",
    "'//' is used to obtain the smallest integer nearest to the quotient obtained by dividing two numbers."
   ]
  },
  {
   "cell_type": "code",
   "execution_count": 6,
   "id": "dd7a5f78",
   "metadata": {},
   "outputs": [
    {
     "name": "stdout",
     "output_type": "stream",
     "text": [
      "4.75\n",
      "4\n"
     ]
    }
   ],
   "source": [
    "a = 19\n",
    "b = 4\n",
    "\n",
    "print(a/b)\n",
    "print(a//b) "
   ]
  },
  {
   "cell_type": "raw",
   "id": "0aee90c7",
   "metadata": {},
   "source": [
    "'**' operator is used to compute power of value(Exponentiation)\n",
    "'^'  operator is use for bitwise XOR operation"
   ]
  },
  {
   "cell_type": "code",
   "execution_count": 7,
   "id": "5655b41f",
   "metadata": {},
   "outputs": [
    {
     "name": "stdout",
     "output_type": "stream",
     "text": [
      "9\n",
      "1\n"
     ]
    }
   ],
   "source": [
    "x = 3\n",
    "y = 2\n",
    "\n",
    "print(x ** y)\n",
    "print(x ^ y)"
   ]
  },
  {
   "cell_type": "code",
   "execution_count": null,
   "id": "d3be0bdc",
   "metadata": {},
   "outputs": [],
   "source": [
    "#Q.3. List the logical operators"
   ]
  },
  {
   "cell_type": "raw",
   "id": "a75d6023",
   "metadata": {},
   "source": [
    "Operator      Description\n",
    "-----------------------------------------\n",
    "and \t      Returns True if both statements are true\n",
    "or            Returns True if one of the statements is true\n",
    "not\t          Reverse the result, returns False if the result is true"
   ]
  },
  {
   "cell_type": "code",
   "execution_count": 9,
   "id": "b0180b98",
   "metadata": {},
   "outputs": [
    {
     "name": "stdout",
     "output_type": "stream",
     "text": [
      "True\n"
     ]
    }
   ],
   "source": [
    "# Example for logical AND operator\n",
    "x = 3\n",
    "print((x < 5 and  x < 10))"
   ]
  },
  {
   "cell_type": "code",
   "execution_count": 11,
   "id": "94174388",
   "metadata": {},
   "outputs": [
    {
     "name": "stdout",
     "output_type": "stream",
     "text": [
      "False\n"
     ]
    }
   ],
   "source": [
    "# Example for logical OR operator\n",
    "x = 5\n",
    "print(x < 5 or x < 4)"
   ]
  },
  {
   "cell_type": "code",
   "execution_count": 14,
   "id": "8645ed1e",
   "metadata": {},
   "outputs": [
    {
     "name": "stdout",
     "output_type": "stream",
     "text": [
      "True\n"
     ]
    }
   ],
   "source": [
    "# Example for logical NOT operator\n",
    "x = 5\n",
    "print(not(x < 5 and x < 10))"
   ]
  },
  {
   "cell_type": "code",
   "execution_count": 15,
   "id": "a2300ff2",
   "metadata": {},
   "outputs": [],
   "source": [
    "#Q.4. Explain right shift operator and left shift operator with examples."
   ]
  },
  {
   "cell_type": "raw",
   "id": "6033b6b4",
   "metadata": {},
   "source": [
    "These operators are used to shift the bits of a number left or right thereby multiplying or dividing the number by two respectively."
   ]
  },
  {
   "cell_type": "code",
   "execution_count": 22,
   "id": "b29d5d24",
   "metadata": {},
   "outputs": [
    {
     "name": "stdout",
     "output_type": "stream",
     "text": [
      "32\n",
      "2\n"
     ]
    }
   ],
   "source": [
    "# Example for left shift and right shift  operators\n",
    "\n",
    "x = 8\n",
    "\n",
    "print(x<<2)\n",
    "print(x>>2)"
   ]
  },
  {
   "cell_type": "code",
   "execution_count": 23,
   "id": "ebcf7b43",
   "metadata": {},
   "outputs": [],
   "source": [
    "#Q.5. Create a list containing int type data of length 15. Then write a code to check if 10 is\n",
    "# present in the list or not"
   ]
  },
  {
   "cell_type": "code",
   "execution_count": 42,
   "id": "341074ea",
   "metadata": {},
   "outputs": [
    {
     "name": "stdout",
     "output_type": "stream",
     "text": [
      "Element 10 found at index: 2\n"
     ]
    }
   ],
   "source": [
    "def linsearch(l1, n, x):\n",
    "    for i in range(0,n):\n",
    "        if(l1[i] == x):\n",
    "            return i\n",
    "    return -1\n",
    "\n",
    "l1 = [2,34,10,11,90,3,4,8,7,32,91,78,83,0,62]\n",
    "x = 10\n",
    "n = len(l1)\n",
    "\n",
    "result = linsearch(l1,n,x)\n",
    "if(result == -1):\n",
    "        print(\"Element not found\")\n",
    "else:\n",
    "        print(\"Element\",x,\"found at index:\",result)       "
   ]
  },
  {
   "cell_type": "code",
   "execution_count": null,
   "id": "3989b6e1",
   "metadata": {},
   "outputs": [],
   "source": []
  }
 ],
 "metadata": {
  "kernelspec": {
   "display_name": "Python 3 (ipykernel)",
   "language": "python",
   "name": "python3"
  },
  "language_info": {
   "codemirror_mode": {
    "name": "ipython",
    "version": 3
   },
   "file_extension": ".py",
   "mimetype": "text/x-python",
   "name": "python",
   "nbconvert_exporter": "python",
   "pygments_lexer": "ipython3",
   "version": "3.10.9"
  }
 },
 "nbformat": 4,
 "nbformat_minor": 5
}
