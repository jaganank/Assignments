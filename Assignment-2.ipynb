{
 "cells": [
  {
   "cell_type": "code",
   "execution_count": 1,
   "id": "fad43b1f-e692-4d27-b8c0-29dfabe501d1",
   "metadata": {},
   "outputs": [],
   "source": [
    "#1.What are the two values of the Boolean data type? How do you write them?"
   ]
  },
  {
   "cell_type": "markdown",
   "id": "d3f274bd-867e-4014-9b73-1a71a9eea126",
   "metadata": {},
   "source": [
    "Answer: True and False are used to compare between two values and evaluate expressions \n",
    "to get an Boolean value\n",
    "\n",
    "Flag = True\n",
    "\n",
    "Flag = False\n"
   ]
  },
  {
   "cell_type": "code",
   "execution_count": 2,
   "id": "ef0587b4-7b8d-451b-b13a-7157569b7f8f",
   "metadata": {},
   "outputs": [],
   "source": [
    "#2. What are the three different types of Boolean operators?"
   ]
  },
  {
   "cell_type": "markdown",
   "id": "24113831-e0d1-4596-a10a-7739f8677697",
   "metadata": {},
   "source": [
    "Answer: 3 different types of Boolean operators are AND, OR and NOT\n",
    "\n",
    "AND – will return TRUE only if both are values are TRUE\n",
    "\n",
    "OR – will return TRUE only if any one of the values are TRUE\n",
    "\n",
    "NOT -  will return TRUE only if FALSE\n",
    "\n"
   ]
  },
  {
   "cell_type": "code",
   "execution_count": 3,
   "id": "167e648e-7d29-4297-b488-6fe3eb2685eb",
   "metadata": {},
   "outputs": [],
   "source": [
    "#3. Make a list of each Boolean operator's truth tables (i.e. every possible combination of Boolean values for the operator and what it evaluate )."
   ]
  },
  {
   "cell_type": "raw",
   "id": "a9d11cdf-8fef-4c69-8289-5d7d98559f23",
   "metadata": {},
   "source": [
    "AND Truth Table\n",
    "-----------------------------------------------------\n",
    "\n",
    "X          AND       Y         Return value\n",
    "\n",
    "True\t\t        True            True\n",
    "True                False           False\n",
    "False               True            False\n",
    "False               False           False\n",
    "\n",
    "OR Truth Table\n",
    "----------------------------------------------------\n",
    "\n",
    "X                OR              Y            Return value\n",
    "\n",
    "True\t\t                     True            True\n",
    "True                             False           True\n",
    "False                            True            True\n",
    "False                            False           False\n",
    "\n",
    "NOT Truth Table\n",
    "----------------------------------------------------\n",
    "\n",
    "NOT              X              Return value\n",
    "\n",
    "not\t\t        True             False\n",
    "not             False            True\n"
   ]
  },
  {
   "cell_type": "code",
   "execution_count": 4,
   "id": "3b9b6f48-75f0-450d-8500-8dcbf80bb582",
   "metadata": {},
   "outputs": [],
   "source": [
    "#4. What are the values of the following expressions?"
   ]
  },
  {
   "cell_type": "code",
   "execution_count": 5,
   "id": "9380e96b-6b10-4871-8fb8-242e03ee76de",
   "metadata": {},
   "outputs": [
    {
     "data": {
      "text/plain": [
       "False"
      ]
     },
     "execution_count": 5,
     "metadata": {},
     "output_type": "execute_result"
    }
   ],
   "source": [
    "(5 > 4) and (3 == 5)"
   ]
  },
  {
   "cell_type": "code",
   "execution_count": 6,
   "id": "cd652aa4-79ff-4c0d-8263-e6678952cd28",
   "metadata": {},
   "outputs": [
    {
     "data": {
      "text/plain": [
       "False"
      ]
     },
     "execution_count": 6,
     "metadata": {},
     "output_type": "execute_result"
    }
   ],
   "source": [
    "not (5 > 4) "
   ]
  },
  {
   "cell_type": "code",
   "execution_count": 7,
   "id": "a472bbbc-1943-4eb8-88eb-241ead714c43",
   "metadata": {},
   "outputs": [
    {
     "data": {
      "text/plain": [
       "True"
      ]
     },
     "execution_count": 7,
     "metadata": {},
     "output_type": "execute_result"
    }
   ],
   "source": [
    "(5 > 4) or (3 == 5)"
   ]
  },
  {
   "cell_type": "code",
   "execution_count": 8,
   "id": "761ac5a6-9eae-4533-967e-83de76950ae0",
   "metadata": {},
   "outputs": [
    {
     "data": {
      "text/plain": [
       "False"
      ]
     },
     "execution_count": 8,
     "metadata": {},
     "output_type": "execute_result"
    }
   ],
   "source": [
    "not ((5 > 4) or (3 == 5))"
   ]
  },
  {
   "cell_type": "code",
   "execution_count": 9,
   "id": "1faa398f-de71-421f-8f87-4fdda1312136",
   "metadata": {},
   "outputs": [
    {
     "data": {
      "text/plain": [
       "False"
      ]
     },
     "execution_count": 9,
     "metadata": {},
     "output_type": "execute_result"
    }
   ],
   "source": [
    "(True and True) and (True == False)"
   ]
  },
  {
   "cell_type": "code",
   "execution_count": 10,
   "id": "4c3abcde-7ee2-4763-ab82-316f9bbfe9f0",
   "metadata": {},
   "outputs": [
    {
     "data": {
      "text/plain": [
       "True"
      ]
     },
     "execution_count": 10,
     "metadata": {},
     "output_type": "execute_result"
    }
   ],
   "source": [
    "(not False) or (not True)"
   ]
  },
  {
   "cell_type": "code",
   "execution_count": 11,
   "id": "e108eec3-cea2-4d08-8526-09baab3dd9e5",
   "metadata": {},
   "outputs": [],
   "source": [
    "#5. What are the six comparison operators?"
   ]
  },
  {
   "cell_type": "raw",
   "id": "8f1b5360-205d-4cf7-b971-fc86878f82a9",
   "metadata": {},
   "source": [
    "Operator\tWhat it means\n",
    "==\tEqual to\n",
    "!=\tNot equal to\n",
    "<\tLess than\n",
    ">\tGreater than\n",
    "<=\tLess than or equal to\n",
    ">=\tGreater than or equal to\n",
    "\n"
   ]
  },
  {
   "cell_type": "code",
   "execution_count": 12,
   "id": "1baea2a6-7fd3-4b97-8ea5-3ab649699f3f",
   "metadata": {},
   "outputs": [],
   "source": [
    "#6. How do you tell the difference between the equal to and assignment operators?Describe a condition and when you would use one."
   ]
  },
  {
   "cell_type": "raw",
   "id": "b625faf7-d907-4b3d-a38d-6356e75e6f86",
   "metadata": {},
   "source": [
    "There will be two equal sign operators (==)  and one equal sign operator for assignment (=)\n",
    "Equal to operator is used for comparison between two variables and based on the result of Boolean value some action or statements are executed.\n",
    "\n",
    "Equal to operator example\n",
    "X = 10\n",
    "Y = 3\n",
    "If x  ==  y : \n",
    "    print(“True”) \n",
    "Else : \n",
    "print (“False”)\n",
    "\n",
    "Assignment operator is used to set a value to variable or constant and change during the program execution.\n",
    "\n",
    "Assignment operator example\n",
    "C = “iNeuron”\n",
    "    print(c)\n",
    "    "
   ]
  },
  {
   "cell_type": "code",
   "execution_count": 13,
   "id": "840660b4-8190-42b4-ad9f-49eb62565526",
   "metadata": {},
   "outputs": [],
   "source": [
    "#7. Identify the three blocks in this code:"
   ]
  },
  {
   "cell_type": "code",
   "execution_count": 16,
   "id": "347ddd35-960a-4426-a902-02e5a4c9c4ee",
   "metadata": {},
   "outputs": [
    {
     "name": "stdout",
     "output_type": "stream",
     "text": [
      "ham\n",
      "spam\n",
      "spam\n"
     ]
    }
   ],
   "source": [
    "spam = 0\n",
    "\n",
    "if spam == 10 :\n",
    "    print('eggs')\n",
    "if spam > 5 :\n",
    "    print('bacon')\n",
    "else :\n",
    "    print('ham')\n",
    "    print('spam')\n",
    "    print('spam')"
   ]
  },
  {
   "cell_type": "code",
   "execution_count": 17,
   "id": "a205b3f7-e59b-4a3d-89a9-33a1799a0f15",
   "metadata": {},
   "outputs": [],
   "source": [
    "#8. Write code that prints Hello if 1 is stored in spam, prints Howdy if 2 is stored in spam, and prints Greetings! if anything else is stored in spam."
   ]
  },
  {
   "cell_type": "code",
   "execution_count": 21,
   "id": "01b36eca-d332-42e1-8c9c-709b324cef9a",
   "metadata": {},
   "outputs": [
    {
     "name": "stdout",
     "output_type": "stream",
     "text": [
      "Hello\n"
     ]
    }
   ],
   "source": [
    "spam = 1\n",
    "if (spam == 1) :\n",
    "    print(\"Hello\")\n",
    "elif (spam == 2) :\n",
    "     print(\"Howdy\")\n",
    "else :\n",
    "    print(\"Greetings\")"
   ]
  },
  {
   "cell_type": "code",
   "execution_count": 22,
   "id": "f12c60f6-4741-40ad-aa8b-f1e0fea418d0",
   "metadata": {},
   "outputs": [],
   "source": [
    "#9.If your programme is stuck in an endless loop, what keys you’ll press?"
   ]
  },
  {
   "cell_type": "markdown",
   "id": "b98ca5f6-b0ea-485a-85a3-c34bddf80f39",
   "metadata": {},
   "source": [
    "We have to press ctrl-c in windows and ctrl-z in unix if program is stuck in infinite loop"
   ]
  },
  {
   "cell_type": "code",
   "execution_count": 23,
   "id": "3ea6dec1-f4dd-4428-91b8-b6fb402caf32",
   "metadata": {},
   "outputs": [],
   "source": [
    "#10. How can you tell the difference between break and continue?"
   ]
  },
  {
   "cell_type": "markdown",
   "id": "2d9dcf50-4192-4d4b-8557-fa9d119e7c86",
   "metadata": {},
   "source": [
    "Break statement is used stop process in the loop. Break will terminate the next iterations\n",
    "Continue statement only stops the current iteration of the loop. Continue does not terminate \n",
    "the next iterations, it resumes with the successive iterations.\n"
   ]
  },
  {
   "cell_type": "code",
   "execution_count": 28,
   "id": "eab4ec9b-3830-4cbf-9a16-96a50904ed40",
   "metadata": {},
   "outputs": [
    {
     "name": "stdout",
     "output_type": "stream",
     "text": [
      "0\n",
      "1\n",
      "2\n",
      "3\n",
      "4\n"
     ]
    }
   ],
   "source": [
    "for num in range(0,10) :\n",
    "    if num == 5 :\n",
    "        break\n",
    "    print(num)"
   ]
  },
  {
   "cell_type": "code",
   "execution_count": 29,
   "id": "2eac99f4-0f64-4c17-9024-52a100f38bf8",
   "metadata": {},
   "outputs": [
    {
     "name": "stdout",
     "output_type": "stream",
     "text": [
      "0\n",
      "1\n",
      "2\n",
      "3\n",
      "4\n",
      "6\n",
      "7\n",
      "8\n",
      "9\n"
     ]
    }
   ],
   "source": [
    "for num in range(0,10) :\n",
    "    if num == 5 :\n",
    "        continue\n",
    "    print(num)    "
   ]
  },
  {
   "cell_type": "code",
   "execution_count": 30,
   "id": "61f459bd-fae9-41f2-aa23-4aa804f4bcfa",
   "metadata": {},
   "outputs": [],
   "source": [
    "#11. In a for loop, what is the difference between range (10), range(0, 10), and range(0, 10, 1)?"
   ]
  },
  {
   "cell_type": "code",
   "execution_count": 31,
   "id": "1dab81da-50a5-4c67-b8f0-315da47f145b",
   "metadata": {},
   "outputs": [
    {
     "name": "stdout",
     "output_type": "stream",
     "text": [
      "0\n",
      "1\n",
      "2\n",
      "3\n",
      "4\n",
      "5\n",
      "6\n",
      "7\n",
      "8\n",
      "9\n"
     ]
    }
   ],
   "source": [
    "for i in range(10) :\n",
    "    print(i)"
   ]
  },
  {
   "cell_type": "code",
   "execution_count": 32,
   "id": "2bcc1c2b-6e8f-458b-9e94-7b2459dbbe78",
   "metadata": {},
   "outputs": [
    {
     "name": "stdout",
     "output_type": "stream",
     "text": [
      "0\n",
      "1\n",
      "2\n",
      "3\n",
      "4\n",
      "5\n",
      "6\n",
      "7\n",
      "8\n",
      "9\n"
     ]
    }
   ],
   "source": [
    "for i in range(0,10) :\n",
    "    print(i)"
   ]
  },
  {
   "cell_type": "code",
   "execution_count": 33,
   "id": "751ac99d-7164-45dc-a63c-84fe934e8afb",
   "metadata": {},
   "outputs": [
    {
     "name": "stdout",
     "output_type": "stream",
     "text": [
      "0\n",
      "1\n",
      "2\n",
      "3\n",
      "4\n",
      "5\n",
      "6\n",
      "7\n",
      "8\n",
      "9\n"
     ]
    }
   ],
   "source": [
    "for i in range(0,10,1) :\n",
    "    print(i)"
   ]
  },
  {
   "cell_type": "code",
   "execution_count": 34,
   "id": "4c277480-a126-4a8e-a57c-6a32f6e34eb9",
   "metadata": {},
   "outputs": [],
   "source": [
    "#12. Write a short program that prints the numbers 1 to 10 using a for loop. \n",
    "#Then write an equivalent program that prints the numbers 1 to 10 using a while loop."
   ]
  },
  {
   "cell_type": "code",
   "execution_count": 35,
   "id": "91245560-b681-443c-af79-125a5d2a1908",
   "metadata": {},
   "outputs": [
    {
     "name": "stdout",
     "output_type": "stream",
     "text": [
      "1\n",
      "2\n",
      "3\n",
      "4\n",
      "5\n",
      "6\n",
      "7\n",
      "8\n",
      "9\n",
      "10\n"
     ]
    }
   ],
   "source": [
    "for i in range(0,10) :\n",
    "    print(i+1)"
   ]
  },
  {
   "cell_type": "code",
   "execution_count": 36,
   "id": "ba9eaed6-8911-4331-9f5f-4dea36e6ad6b",
   "metadata": {},
   "outputs": [
    {
     "name": "stdout",
     "output_type": "stream",
     "text": [
      "1\n",
      "2\n",
      "3\n",
      "4\n",
      "5\n",
      "6\n",
      "7\n",
      "8\n",
      "9\n",
      "10\n"
     ]
    }
   ],
   "source": [
    "i = 1\n",
    "n = 10\n",
    "while i <= n :\n",
    "    print(i)\n",
    "    i += 1"
   ]
  },
  {
   "cell_type": "code",
   "execution_count": 37,
   "id": "6c77569e-d082-483c-b5eb-d005c0d456c0",
   "metadata": {},
   "outputs": [],
   "source": [
    "#13. If you had a function named bacon () inside a module named spam, how would you call it after importing spam?"
   ]
  },
  {
   "cell_type": "markdown",
   "id": "cb89c7b2-cfcc-4b1e-bb45-c6f0398052e0",
   "metadata": {},
   "source": [
    "import spam as sp\n",
    "\n",
    "sp.bacon()"
   ]
  },
  {
   "cell_type": "code",
   "execution_count": null,
   "id": "c1d45bf8-8faf-4ed7-b8a4-2143376021fa",
   "metadata": {},
   "outputs": [],
   "source": []
  }
 ],
 "metadata": {
  "kernelspec": {
   "display_name": "Python 3 (ipykernel)",
   "language": "python",
   "name": "python3"
  },
  "language_info": {
   "codemirror_mode": {
    "name": "ipython",
    "version": 3
   },
   "file_extension": ".py",
   "mimetype": "text/x-python",
   "name": "python",
   "nbconvert_exporter": "python",
   "pygments_lexer": "ipython3",
   "version": "3.10.6"
  }
 },
 "nbformat": 4,
 "nbformat_minor": 5
}
