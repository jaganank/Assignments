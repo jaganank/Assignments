{
 "cells": [
  {
   "cell_type": "code",
   "execution_count": 1,
   "id": "148521bd",
   "metadata": {},
   "outputs": [],
   "source": [
    "#1. What is the role of the 'else' block in a try-except statement? Provide an example scenario where it would be useful."
   ]
  },
  {
   "cell_type": "raw",
   "id": "93b97c2e",
   "metadata": {},
   "source": [
    "The else block in a try-except statement is an optional block of code that is executed if no exceptions are raised in the try block. This means that if no exceptions occur, the code in the else block is executed."
   ]
  },
  {
   "cell_type": "code",
   "execution_count": 9,
   "id": "6a0a933f",
   "metadata": {},
   "outputs": [
    {
     "name": "stdout",
     "output_type": "stream",
     "text": [
      "9765625000000000000000000000000000000\n"
     ]
    }
   ],
   "source": [
    "try:\n",
    "    result = 5000 ** 10\n",
    "\n",
    "except OverFlowError:\n",
    "    print(\"Too Big for calculations\")\n",
    "else:\n",
    "    print(result)    "
   ]
  },
  {
   "cell_type": "code",
   "execution_count": 6,
   "id": "63b6740d",
   "metadata": {},
   "outputs": [],
   "source": [
    "#2. Can a try-except block be nested inside another try-except block? Explain with an example."
   ]
  },
  {
   "cell_type": "raw",
   "id": "f3c538cf",
   "metadata": {},
   "source": [
    "We can have nested try-except blocks in Python. In this case, if an exception is raised in the nested try block, the nested except block is used to handle it. In case the nested except is not able to handle it, the outer except blocks are used to handle the exception"
   ]
  },
  {
   "cell_type": "code",
   "execution_count": 2,
   "id": "b423f358",
   "metadata": {},
   "outputs": [],
   "source": [
    "def askint():\n",
    "    try:\n",
    "        val = int(input(\"Please enter a valid integer:\"))\n",
    "    except:\n",
    "        print(\"Integer value is not valid\")\n",
    "        try:\n",
    "            val = int(input(\"Please enter a valid integer\"))\n",
    "        except:\n",
    "            print(\"We have handled this second time\")\n",
    "    finally:\n",
    "        print(\"Finally will be executed\")"
   ]
  },
  {
   "cell_type": "code",
   "execution_count": 3,
   "id": "c6917316",
   "metadata": {},
   "outputs": [
    {
     "name": "stdout",
     "output_type": "stream",
     "text": [
      "Please enter a valid integer:kjdsjfslj\n",
      "Integer value is not valid\n",
      "Please enter a valid integercddbhkjfaso\n",
      "We have handled this second time\n",
      "Finally will be executed\n"
     ]
    }
   ],
   "source": [
    "askint()"
   ]
  },
  {
   "cell_type": "code",
   "execution_count": 4,
   "id": "9b2542c7",
   "metadata": {},
   "outputs": [],
   "source": [
    "#3. How can you create a custom exception class in Python? Provide an example that demonstrates its usage."
   ]
  },
  {
   "cell_type": "raw",
   "id": "b7d77e00",
   "metadata": {},
   "source": [
    "In Python,we can create a custom exception by defining a new class that inherits from the built-in `Exception` class or one of its subclasses. To raise the custom exception, you can use the `raise` keyword followed by an instance of your custom exception class."
   ]
  },
  {
   "cell_type": "code",
   "execution_count": 8,
   "id": "5fff4955",
   "metadata": {},
   "outputs": [
    {
     "name": "stdout",
     "output_type": "stream",
     "text": [
      "Enter your age for voting :14\n",
      "Exception occured: Invalid Age Limit\n"
     ]
    }
   ],
   "source": [
    "#Example for custom exception class\n",
    "\n",
    "class VotingAgeLimit(Exception):\n",
    "    pass\n",
    "\n",
    "number = 18\n",
    "\n",
    "try:\n",
    "    Age = int(input(\"Enter your age for voting :\"))\n",
    "    if Age < 18 :\n",
    "        raise VotingAgeLimit\n",
    "    else :\n",
    "        print(\"You are eligible to vote\")\n",
    "\n",
    "except VotingAgeLimit:\n",
    "    print(\"Exception occured: Invalid Age Limit\")"
   ]
  },
  {
   "cell_type": "code",
   "execution_count": 9,
   "id": "e714bdea",
   "metadata": {},
   "outputs": [],
   "source": [
    "#4. What are some common exceptions that are built-in to Python?"
   ]
  },
  {
   "cell_type": "code",
   "execution_count": 10,
   "id": "d15da590",
   "metadata": {},
   "outputs": [
    {
     "name": "stdout",
     "output_type": "stream",
     "text": [
      "['ArithmeticError', 'AssertionError', 'AttributeError', 'BaseException', 'BlockingIOError', 'BrokenPipeError', 'BufferError', 'BytesWarning', 'ChildProcessError', 'ConnectionAbortedError', 'ConnectionError', 'ConnectionRefusedError', 'ConnectionResetError', 'DeprecationWarning', 'EOFError', 'Ellipsis', 'EncodingWarning', 'EnvironmentError', 'Exception', 'False', 'FileExistsError', 'FileNotFoundError', 'FloatingPointError', 'FutureWarning', 'GeneratorExit', 'IOError', 'ImportError', 'ImportWarning', 'IndentationError', 'IndexError', 'InterruptedError', 'IsADirectoryError', 'KeyError', 'KeyboardInterrupt', 'LookupError', 'MemoryError', 'ModuleNotFoundError', 'NameError', 'None', 'NotADirectoryError', 'NotImplemented', 'NotImplementedError', 'OSError', 'OverflowError', 'PendingDeprecationWarning', 'PermissionError', 'ProcessLookupError', 'RecursionError', 'ReferenceError', 'ResourceWarning', 'RuntimeError', 'RuntimeWarning', 'StopAsyncIteration', 'StopIteration', 'SyntaxError', 'SyntaxWarning', 'SystemError', 'SystemExit', 'TabError', 'TimeoutError', 'True', 'TypeError', 'UnboundLocalError', 'UnicodeDecodeError', 'UnicodeEncodeError', 'UnicodeError', 'UnicodeTranslateError', 'UnicodeWarning', 'UserWarning', 'ValueError', 'Warning', 'WindowsError', 'ZeroDivisionError', '__IPYTHON__', '__build_class__', '__debug__', '__doc__', '__import__', '__loader__', '__name__', '__package__', '__spec__', 'abs', 'aiter', 'all', 'anext', 'any', 'ascii', 'bin', 'bool', 'breakpoint', 'bytearray', 'bytes', 'callable', 'chr', 'classmethod', 'compile', 'complex', 'copyright', 'credits', 'delattr', 'dict', 'dir', 'display', 'divmod', 'enumerate', 'eval', 'exec', 'execfile', 'filter', 'float', 'format', 'frozenset', 'get_ipython', 'getattr', 'globals', 'hasattr', 'hash', 'help', 'hex', 'id', 'input', 'int', 'isinstance', 'issubclass', 'iter', 'len', 'license', 'list', 'locals', 'map', 'max', 'memoryview', 'min', 'next', 'object', 'oct', 'open', 'ord', 'pow', 'print', 'property', 'range', 'repr', 'reversed', 'round', 'runfile', 'set', 'setattr', 'slice', 'sorted', 'staticmethod', 'str', 'sum', 'super', 'tuple', 'type', 'vars', 'zip']\n"
     ]
    }
   ],
   "source": [
    "print(dir(locals()['__builtins__']))"
   ]
  },
  {
   "cell_type": "code",
   "execution_count": 11,
   "id": "23277c6b",
   "metadata": {},
   "outputs": [],
   "source": [
    "#5. What is logging in Python, and why is it important in software development?"
   ]
  },
  {
   "cell_type": "raw",
   "id": "9d1a1904",
   "metadata": {},
   "source": [
    "Logging is a way to store information about your script and track events that occur. When writing any complex script in Python, logging is essential for debugging software as you develop it. Without logging, finding the source of a problem in our code may be extremely time consuming.Logging is a means of tracking events that happen when some software runs. The software’s developer adds logging calls to their code to indicate that certain events have occurred. An event is described by a descriptive message which can optionally contain variable data (i.e. data that is potentially different for each occurrence of the event). Events also have an importance which the developer ascribes to the event; the importance can also be called the level or severity."
   ]
  },
  {
   "cell_type": "code",
   "execution_count": 12,
   "id": "758f2405",
   "metadata": {},
   "outputs": [],
   "source": [
    "#6. Explain the purpose of log levels in Python logging and provide examples of when each log level would be appropriate."
   ]
  },
  {
   "cell_type": "raw",
   "id": "d63100fa",
   "metadata": {},
   "source": [
    "Logging is a means of tracking events that happen when some software runs.Logging provides a set of convenience functions for simple logging usage. These are debug(), info(), warning(), error() and critical(). To determine when to use logging refer below mentioned details:\n",
    "\n",
    "DEBUG - Detailed information, typically of interest only when diagnosing problems.\n",
    "INFO -  Confirmation that things are working as expected.\n",
    "WARNING - An indication that something unexpected happened, or indicative of some problem in the near future (e.g. ‘disk space low’). The software is still working as expected.\n",
    "ERROR-Due to a more serious problem, the software has not been able to perform some function.\n",
    "CRITICAL- A serious error, indicating that the program itself may be unable to continue running."
   ]
  },
  {
   "cell_type": "code",
   "execution_count": 1,
   "id": "332cf5b6",
   "metadata": {},
   "outputs": [
    {
     "name": "stderr",
     "output_type": "stream",
     "text": [
      "DEBUG:root:Variables are 4 and 9\n"
     ]
    },
    {
     "data": {
      "text/plain": [
       "13"
      ]
     },
     "execution_count": 1,
     "metadata": {},
     "output_type": "execute_result"
    }
   ],
   "source": [
    "#Examples for each log levels\n",
    "\n",
    "import logging\n",
    "logging.basicConfig(level=logging.DEBUG)\n",
    "\n",
    "\n",
    "def add_num(x,y):\n",
    "    logging.debug('Variables are %s and %s',x,y)\n",
    "    return x + y\n",
    "\n",
    "add_num(4,9)"
   ]
  },
  {
   "cell_type": "code",
   "execution_count": 2,
   "id": "2f839510",
   "metadata": {},
   "outputs": [
    {
     "name": "stderr",
     "output_type": "stream",
     "text": [
      "INFO:root:User name logged in as Admin\n"
     ]
    }
   ],
   "source": [
    "import logging\n",
    "logging.basicConfig(level=logging.INFO)\n",
    "\n",
    "def login_name(user):\n",
    "    logging.info('User name logged in as %s',user)\n",
    "    \n",
    "login_name('Admin')"
   ]
  },
  {
   "cell_type": "code",
   "execution_count": 3,
   "id": "1f12c338",
   "metadata": {},
   "outputs": [
    {
     "name": "stderr",
     "output_type": "stream",
     "text": [
      "WARNING:root:Sorry you have balance is less than 25000\n"
     ]
    }
   ],
   "source": [
    "import logging\n",
    "logging.basicConfig(level=logging.WARNING)\n",
    "\n",
    "def balance(amount):\n",
    "    if amount < 40000:\n",
    "        logging.warning('Sorry you have balance is less than %s',amount)\n",
    "    \n",
    "balance(25000)"
   ]
  },
  {
   "cell_type": "code",
   "execution_count": 4,
   "id": "179c8f7d",
   "metadata": {},
   "outputs": [
    {
     "name": "stderr",
     "output_type": "stream",
     "text": [
      "ERROR:root:Division Error by zero\n"
     ]
    }
   ],
   "source": [
    "import logging\n",
    "logging.basicConfig(level=logging.ERROR)\n",
    "\n",
    "def DivideByZero(n,d):\n",
    "    try:\n",
    "        results = n / d\n",
    "    except ZeroDivisionError:\n",
    "        logging.error('Division Error by zero')\n",
    "    else :\n",
    "        print(results)\n",
    "\n",
    "DivideByZero(5,0)"
   ]
  },
  {
   "cell_type": "code",
   "execution_count": 5,
   "id": "709efbd2",
   "metadata": {},
   "outputs": [
    {
     "name": "stderr",
     "output_type": "stream",
     "text": [
      "CRITICAL:root:system failed to boot You need to check this issue\n"
     ]
    }
   ],
   "source": [
    "import logging\n",
    "logging.basicConfig(level=logging.CRITICAL)\n",
    "\n",
    "def LetUsCheckSystem(system):\n",
    "    if system != \"OK\" :\n",
    "        logging.critical(\"system failed to boot %s\",system)\n",
    "        \n",
    "LetUsCheckSystem(\"You need to check this issue\")"
   ]
  },
  {
   "cell_type": "code",
   "execution_count": 6,
   "id": "a8916179",
   "metadata": {},
   "outputs": [],
   "source": [
    "#7. What are log formatters in Python logging, and how can you customise the log message format using formatters?"
   ]
  },
  {
   "cell_type": "raw",
   "id": "671cc86d",
   "metadata": {},
   "source": [
    "Formatter objects configure the final order, structure, and contents of the log message. Unlike the base logging.Handler class, application code may instantiate formatter classes, although you could likely subclass the formatter if your application needs special behavior. The constructor takes three optional arguments – a message format string, a date format string and a style indicator.\n",
    "\n",
    "logging.Formatter.__init__(fmt=None, datefmt=None, style='%')\n",
    "If there is no message format string, the default is to use the raw message. If there is no date format string, the default date format is: %Y-%m-%d %H:%M:%S"
   ]
  },
  {
   "cell_type": "code",
   "execution_count": 7,
   "id": "bf37acd2",
   "metadata": {},
   "outputs": [
    {
     "name": "stderr",
     "output_type": "stream",
     "text": [
      "CRITICAL:root:System Failure :You need to handle this issue now\n"
     ]
    }
   ],
   "source": [
    "import logging\n",
    "import os\n",
    "\n",
    "# Specify the directory and file\n",
    "dir_path = r'C:\\Users\\dell laptop'\n",
    "log_file = \"systems.txt\"\n",
    "full_path = os.path.join(dir_path,log_file)\n",
    "\n",
    "\n",
    "# Check if the directory exists and create it if necessary\n",
    "os.makedirs(dir_path,exist_ok=True)\n",
    "\n",
    "# Set up logging\n",
    "# Get a logger instance (this will fetch the root logger)\n",
    "logger = logging.getLogger()\n",
    "\n",
    "\n",
    "# Set the level of the logger to CRITICAL\n",
    "# This means it will handle events of level CRITICAL and above\n",
    "logger.setLevel(logging.CRITICAL)\n",
    "\n",
    "\n",
    "# Create a FileHandler instance to write logs to a file\n",
    "handler = logging.FileHandler(full_path)\n",
    "\n",
    "# Set the format of the logs using a Formatter\n",
    "# This format includes the log timestamp, log level and log message\n",
    "handler.setFormatter(logging.Formatter('%(asctime)s:%(levelname)s:%(message)s'))\n",
    "\n",
    "# Add the handler to the logger\n",
    "# This connects the logger to the handler so that logs get written to the file\n",
    "logger.addHandler(handler)\n",
    "\n",
    "def LetUsCheckSystem(sys):\n",
    "    if sys != \"OK\" :\n",
    "        logging.critical('System Failure :%s',sys)\n",
    "        \n",
    "        \n",
    "LetUsCheckSystem('You need to handle this issue now')\n",
    "handler.close()"
   ]
  },
  {
   "cell_type": "code",
   "execution_count": 12,
   "id": "22e03346",
   "metadata": {},
   "outputs": [],
   "source": [
    "#8. How can you set up logging to capture log messages from multiple modules or classes in a Python application?"
   ]
  },
  {
   "cell_type": "code",
   "execution_count": 1,
   "id": "6c36842b",
   "metadata": {},
   "outputs": [],
   "source": [
    "import logging\n",
    "hostlogger = logging.getLogger('mylogger.module')\n",
    "hostlogger.info(\"Logger has been initialised in the host module\")"
   ]
  },
  {
   "cell_type": "code",
   "execution_count": 7,
   "id": "0a1571d0",
   "metadata": {},
   "outputs": [
    {
     "name": "stderr",
     "output_type": "stream",
     "text": [
      "2023-08-18 07:49:40,996 - mylogger - INFO - My Logger has been initialized\n",
      "2023-08-18 07:49:40,996 - mylogger - INFO - My Logger has been initialized\n",
      "2023-08-18 07:49:40,996 - mylogger - INFO - My Logger has been initialized\n",
      "2023-08-18 07:49:40,996 - mylogger - INFO - My Logger has been initialized\n",
      "2023-08-18 07:49:40,996 - mylogger - INFO - My Logger has been initialized\n"
     ]
    }
   ],
   "source": [
    "import logging\n",
    "\n",
    "#Function to initialize the logger, notice that it takes 2 arguments\n",
    "#logger_name and logfile\n",
    "def setup_logger(logger_name,logfile):\n",
    "                logger = logging.getLogger(logger_name)\n",
    "                logger.setLevel(logging.INFO)\n",
    "                # create file handler which logs even debug messages\n",
    "                fh = logging.FileHandler(logfile)\n",
    "                fh.setLevel(logging.INFO)\n",
    "                # create console handler with a higher log level\n",
    "                ch = logging.StreamHandler()\n",
    "                ch.setLevel(logging.INFO)\n",
    "                # create formatter and add it to the handlers\n",
    "                formatter = logging.Formatter('%(asctime)s - %(name)s - %(levelname)s - %(message)s')\n",
    "                fh.setFormatter(formatter)\n",
    "                ch.setFormatter(formatter)\n",
    "                # add the handlers to the logger\n",
    "                logger.addHandler(fh)\n",
    "                logger.addHandler(ch)\n",
    "                return logger\n",
    "#setup the logger as below with mylogger being the name of the #logger and myloggerfile.log being the name of the logfile\n",
    "mylogger=setup_logger('mylogger','myloggerfile.log')\n",
    "mylogger.info(\"My Logger has been initialized\")\n",
    "##########Very important to import the module after the logger has #been created, if the module is imported before setting up the #logger the module wont log to the desired file\n",
    "\n"
   ]
  },
  {
   "cell_type": "code",
   "execution_count": 8,
   "id": "27a80667",
   "metadata": {},
   "outputs": [],
   "source": [
    "#9. What is the difference between the logging and print statements in Python? When\n",
    "#should you use logging over print statements in a real-world application?"
   ]
  },
  {
   "cell_type": "raw",
   "id": "93daad8a",
   "metadata": {},
   "source": [
    "The print statement is a built-in function in Python that prints the specified value or values to the console. It is mainly used for debugging and is not recommended for logging information in production code.The print statement will simply print the values to the console.\n",
    "\n",
    "Logging has different levels of severity that allows you to display log messages according to the level you want. A print statement does not give you that flexibility\n",
    "\n",
    "Logging allows you to direct the log messages to separate files that can then be used for post analysis while the same is not easily available with print statement\n",
    "\n",
    "You can set different log levels at individual code file level as well - some files may have INFO level while some may have DEBUG level\n",
    "\n",
    "Now that we have an understanding of different log levels and their potential use-case,where can we put this log messages. We can direct the log messages to:\n",
    "1.standard output i.e. the messages will be displayed on the screen of the user\n",
    "2. text files so that they can be used later for RCA (Root Cause Analysis) mostly logged messages to screen but as the project becomes gigantic we should direct the logs to some file system to be used later for analysis."
   ]
  },
  {
   "cell_type": "raw",
   "id": "15b12ede",
   "metadata": {},
   "source": [
    "10. Write a Python program that logs a message to a file named \"app.log\" with the\n",
    "following requirements:\n",
    "● The log message should be \"Hello, World!\"\n",
    "● The log level should be set to \"INFO.\"\n",
    "● The log file should append new log entries without overwriting previous ones.\n"
   ]
  },
  {
   "cell_type": "code",
   "execution_count": 13,
   "id": "0ef20622",
   "metadata": {},
   "outputs": [],
   "source": [
    "import logging\n",
    "import os\n",
    "logging.basicConfig(level=logging.INFO)\n",
    "\n",
    "#Please change the directory name where app.log has to created per requirements\n",
    "dir_path = r'C:\\Users\\dell laptop\\assignments'\n",
    "log_file = 'app.log'\n",
    "full_path = os.path.join(dir_path, log_file)\n",
    "\n",
    "# Check if the directory exists and create it if necessary\n",
    "os.makedirs(dir_path, exist_ok=True)\n",
    "\n",
    "# Try writing a test message to the file\n",
    "with open(full_path, 'a') as f:\n",
    "    f.write('\\nHello World...!\\n')\n",
    "    f.write(\"How are you today\\n\")\n",
    "    f.write(\"Good Morning\\n\")"
   ]
  },
  {
   "cell_type": "raw",
   "id": "f57bb258",
   "metadata": {},
   "source": [
    "11. Create a Python program that logs an error message to the console and a file named\n",
    "\"errors.log\" if an exception occurs during the program's execution. The error\n",
    "message should include the exception type and a timestamp"
   ]
  },
  {
   "cell_type": "code",
   "execution_count": 10,
   "id": "ad0c7090",
   "metadata": {},
   "outputs": [
    {
     "name": "stdout",
     "output_type": "stream",
     "text": [
      "2.6666666666666665\n"
     ]
    }
   ],
   "source": [
    "import logging\n",
    "logging.basicConfig(level=logging.DEBUG,filename=r'C:\\Users\\dell laptop\\assignments\\error.log',filemode='w')\n",
    "\n",
    "class samplelogging:\n",
    "    def divide(self,a,b):\n",
    "        return a / b\n",
    "try:\n",
    "    dl = samplelogging()\n",
    "    d = dl.divide(8,3)\n",
    "    logging.debug(\"Debug: Dividing two numbers is: {}\".format(d))\n",
    "    print(d)\n",
    "except Exception as e:\n",
    "    logging.exception(e)"
   ]
  },
  {
   "cell_type": "code",
   "execution_count": null,
   "id": "87f4c996",
   "metadata": {},
   "outputs": [],
   "source": []
  }
 ],
 "metadata": {
  "kernelspec": {
   "display_name": "Python 3 (ipykernel)",
   "language": "python",
   "name": "python3"
  },
  "language_info": {
   "codemirror_mode": {
    "name": "ipython",
    "version": 3
   },
   "file_extension": ".py",
   "mimetype": "text/x-python",
   "name": "python",
   "nbconvert_exporter": "python",
   "pygments_lexer": "ipython3",
   "version": "3.10.9"
  }
 },
 "nbformat": 4,
 "nbformat_minor": 5
}
