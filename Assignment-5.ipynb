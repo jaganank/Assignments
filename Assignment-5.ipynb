{
 "cells": [
  {
   "cell_type": "code",
   "execution_count": 1,
   "id": "8fc51b59",
   "metadata": {},
   "outputs": [],
   "source": [
    "#1. What does an empty dictionary's code look like?"
   ]
  },
  {
   "cell_type": "raw",
   "id": "fbf76257",
   "metadata": {},
   "source": [
    "Empty dictionary means that it does not contain any key-value pair elements. To create an empty dictionary in this example, we can use a dict(), which takes no arguments"
   ]
  },
  {
   "cell_type": "code",
   "execution_count": 4,
   "id": "7dea1c5b",
   "metadata": {},
   "outputs": [
    {
     "data": {
      "text/plain": [
       "{}"
      ]
     },
     "execution_count": 4,
     "metadata": {},
     "output_type": "execute_result"
    }
   ],
   "source": [
    "dict()"
   ]
  },
  {
   "cell_type": "code",
   "execution_count": 6,
   "id": "706be519",
   "metadata": {},
   "outputs": [
    {
     "data": {
      "text/plain": [
       "dict"
      ]
     },
     "execution_count": 6,
     "metadata": {},
     "output_type": "execute_result"
    }
   ],
   "source": [
    "type(dict())"
   ]
  },
  {
   "cell_type": "code",
   "execution_count": 7,
   "id": "91e8fcae",
   "metadata": {},
   "outputs": [],
   "source": [
    "#2. What is the value of a dictionary value with the key 'foo' and the value 42?"
   ]
  },
  {
   "cell_type": "code",
   "execution_count": 8,
   "id": "76c717be",
   "metadata": {},
   "outputs": [],
   "source": [
    "d={'key':\"foo\",'value':42}"
   ]
  },
  {
   "cell_type": "code",
   "execution_count": 9,
   "id": "2d86f28f",
   "metadata": {},
   "outputs": [
    {
     "data": {
      "text/plain": [
       "{'key': 'foo', 'value': 42}"
      ]
     },
     "execution_count": 9,
     "metadata": {},
     "output_type": "execute_result"
    }
   ],
   "source": [
    "d"
   ]
  },
  {
   "cell_type": "code",
   "execution_count": 10,
   "id": "46fa5f7d",
   "metadata": {},
   "outputs": [
    {
     "data": {
      "text/plain": [
       "dict"
      ]
     },
     "execution_count": 10,
     "metadata": {},
     "output_type": "execute_result"
    }
   ],
   "source": [
    "type(d)"
   ]
  },
  {
   "cell_type": "code",
   "execution_count": 11,
   "id": "80fd3f35",
   "metadata": {},
   "outputs": [],
   "source": [
    "#3. What is the most significant distinction between a dictionary and a list?"
   ]
  },
  {
   "cell_type": "raw",
   "id": "ed14d8cb",
   "metadata": {},
   "source": [
    "Lists are used to store the data, which should be ordered and sequential.Dictionary is used to store large amounts of data for easy and quick access. List is ordered and mutable, whereas dictionaries are unordered and mutable.\n",
    "List is a sequential data type i.e. they are indexed. Dictionary is a mapping datatype."
   ]
  },
  {
   "cell_type": "code",
   "execution_count": 12,
   "id": "53518516",
   "metadata": {},
   "outputs": [],
   "source": [
    "#4. What happens if you try to access spam['foo'] if spam is {'bar': 100}?"
   ]
  },
  {
   "cell_type": "code",
   "execution_count": 13,
   "id": "6ff5712a",
   "metadata": {},
   "outputs": [
    {
     "ename": "KeyError",
     "evalue": "'foo'",
     "output_type": "error",
     "traceback": [
      "\u001b[1;31m---------------------------------------------------------------------------\u001b[0m",
      "\u001b[1;31mKeyError\u001b[0m                                  Traceback (most recent call last)",
      "Cell \u001b[1;32mIn[13], line 2\u001b[0m\n\u001b[0;32m      1\u001b[0m spam\u001b[38;5;241m=\u001b[39m{\u001b[38;5;124m'\u001b[39m\u001b[38;5;124mbar\u001b[39m\u001b[38;5;124m'\u001b[39m:\u001b[38;5;241m100\u001b[39m}\n\u001b[1;32m----> 2\u001b[0m \u001b[38;5;28mprint\u001b[39m(\u001b[43mspam\u001b[49m\u001b[43m[\u001b[49m\u001b[38;5;124;43m'\u001b[39;49m\u001b[38;5;124;43mfoo\u001b[39;49m\u001b[38;5;124;43m'\u001b[39;49m\u001b[43m]\u001b[49m)\n",
      "\u001b[1;31mKeyError\u001b[0m: 'foo'"
     ]
    }
   ],
   "source": [
    "spam={'bar':100}\n",
    "print(spam['foo'])"
   ]
  },
  {
   "cell_type": "code",
   "execution_count": 14,
   "id": "30321140",
   "metadata": {},
   "outputs": [
    {
     "data": {
      "text/plain": [
       "100"
      ]
     },
     "execution_count": 14,
     "metadata": {},
     "output_type": "execute_result"
    }
   ],
   "source": [
    "spam['bar']"
   ]
  },
  {
   "cell_type": "code",
   "execution_count": 15,
   "id": "0c941868",
   "metadata": {},
   "outputs": [],
   "source": [
    "#5. If a dictionary is stored in spam, what is the difference between the expressions 'cat' in spam and 'cat' in spam.keys()?"
   ]
  },
  {
   "cell_type": "raw",
   "id": "9bb86850",
   "metadata": {},
   "source": [
    "There is no difference. The in operator checks whether a value exists as a key in the dictionary. 'cat' in spam checks whether there is a 'cat' key in the dictionary, while 'cat' in spam.keys() checks whether there is a value 'cat' for one of the keys in spam ."
   ]
  },
  {
   "cell_type": "code",
   "execution_count": 30,
   "id": "a079831c",
   "metadata": {},
   "outputs": [],
   "source": [
    "#6.If a dictionary is stored in spam, what is the difference between the expressions 'cat' in spam \n",
    "#and 'cat' in spam.values()?"
   ]
  },
  {
   "cell_type": "raw",
   "id": "b18c8311",
   "metadata": {},
   "source": [
    "There is no difference. The in operator checks whether a value exists as a key in the dictionary. 'cat' in spam checks whether there is a 'cat' key in the dictionary, while 'cat' in spam. values() checks whether there is a value 'cat' for one of the keys in spam."
   ]
  },
  {
   "cell_type": "code",
   "execution_count": 31,
   "id": "7e6c3580",
   "metadata": {},
   "outputs": [],
   "source": [
    "#7. What is a shortcut for the following code?\n",
    "#if 'color' not in spam:\n",
    "#spam['color'] = 'black'"
   ]
  },
  {
   "cell_type": "code",
   "execution_count": 40,
   "id": "a09c0e5d",
   "metadata": {},
   "outputs": [
    {
     "name": "stdout",
     "output_type": "stream",
     "text": [
      "{'Car': 'Maruthi', 'Body': 'SUV', 'color': 'Black'}\n"
     ]
    }
   ],
   "source": [
    "spam = {'Car':\"Maruthi\",'Body':\"SUV\"}\n",
    "\n",
    "if 'color' not in spam:\n",
    "    spam['color'] = \"Black\"\n",
    "    \n",
    "print(spam)"
   ]
  },
  {
   "cell_type": "code",
   "execution_count": 41,
   "id": "c474f837",
   "metadata": {},
   "outputs": [],
   "source": [
    "#8. How do you \"pretty print\" dictionary values using which module and function?"
   ]
  },
  {
   "cell_type": "code",
   "execution_count": 42,
   "id": "b780930c",
   "metadata": {},
   "outputs": [
    {
     "name": "stdout",
     "output_type": "stream",
     "text": [
      "The original dictionary is : {'gfg': {'rate': 5, 'remark': 'good'}, 'cs': {'rate': 3}}\n",
      "The Pretty Print dictionary is : \n",
      "gfg\n",
      "rate : 5\n",
      "remark : good\n",
      "cs\n",
      "rate : 3\n"
     ]
    }
   ],
   "source": [
    "# Python3 code to demonstrate working of\n",
    "# Pretty Print a dictionary with dictionary value\n",
    "# Using loops\n",
    " \n",
    "# initializing dictionary\n",
    "test_dict = {'gfg': {'rate': 5, 'remark': 'good'}, 'cs': {'rate': 3}}\n",
    " \n",
    "# printing original dictionary\n",
    "print(\"The original dictionary is : \" + str(test_dict))\n",
    " \n",
    "# using loops to Pretty Print\n",
    "print(\"The Pretty Print dictionary is : \")\n",
    "for sub in test_dict:\n",
    "    print(sub)\n",
    "    for sub_nest in test_dict[sub]:\n",
    "        print(sub_nest, ':', test_dict[sub][sub_nest])"
   ]
  },
  {
   "cell_type": "code",
   "execution_count": null,
   "id": "d3a19f0a",
   "metadata": {},
   "outputs": [],
   "source": []
  }
 ],
 "metadata": {
  "kernelspec": {
   "display_name": "Python 3 (ipykernel)",
   "language": "python",
   "name": "python3"
  },
  "language_info": {
   "codemirror_mode": {
    "name": "ipython",
    "version": 3
   },
   "file_extension": ".py",
   "mimetype": "text/x-python",
   "name": "python",
   "nbconvert_exporter": "python",
   "pygments_lexer": "ipython3",
   "version": "3.10.9"
  }
 },
 "nbformat": 4,
 "nbformat_minor": 5
}
