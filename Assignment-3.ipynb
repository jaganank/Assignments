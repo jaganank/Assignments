{
 "cells": [
  {
   "cell_type": "code",
   "execution_count": 1,
   "id": "5bd37a0c-c084-463e-84d3-7c4531a77996",
   "metadata": {},
   "outputs": [],
   "source": [
    "#1. Why are functions advantageous to have in your programs?"
   ]
  },
  {
   "cell_type": "raw",
   "id": "b1df07ce-100c-4d91-9d34-cb252eb8715f",
   "metadata": {},
   "source": [
    "Functions provide convenient way to encapsulate some computation.\n",
    "Functions defined once can be called many times and from anywhere in programs\n",
    "Function can be used for code re-usability and to avoid repeated blocks or statements\n",
    "Functions are used decompose complex problems into simpler pieces\n",
    "Functions are written to improve clarity of codes"
   ]
  },
  {
   "cell_type": "code",
   "execution_count": 2,
   "id": "8672a90b-5f1b-4d5e-beea-3859ded68d2b",
   "metadata": {},
   "outputs": [],
   "source": [
    "#2. When does the code in a function run: when it's specified or when it's called?"
   ]
  },
  {
   "cell_type": "raw",
   "id": "055ae1ed-45af-4b37-8f79-5454abbe763e",
   "metadata": {},
   "source": [
    "Function code executes only when it is called. \n",
    "When we specify the function only the code is written and declared when it is called the actual CPU control will \n",
    "be transfered from the main program to called function."
   ]
  },
  {
   "cell_type": "code",
   "execution_count": 3,
   "id": "3381017b-584a-4318-8454-c496585b0209",
   "metadata": {},
   "outputs": [],
   "source": [
    "#3. What statement creates a function?"
   ]
  },
  {
   "cell_type": "code",
   "execution_count": 4,
   "id": "65508fe0-a732-477f-9900-4a0f1b2c016f",
   "metadata": {},
   "outputs": [],
   "source": [
    "def function():\n",
    "    pass"
   ]
  },
  {
   "cell_type": "code",
   "execution_count": 1,
   "id": "9e1daae0-e1a5-4c54-943b-d4753a5bf48e",
   "metadata": {},
   "outputs": [],
   "source": [
    "#4. What is the difference between a function and a function call?"
   ]
  },
  {
   "cell_type": "raw",
   "id": "911f8f01-5446-48ac-8791-c70d1b164bc7",
   "metadata": {},
   "source": [
    "Function is a block of code that performs a specific task.\n",
    "There are two types of function in Python programming:\n",
    "Standard library functions - These are built-in functions in Python that are available to use.\n",
    "User-defined functions - We can create our own functions based on our requirements.\n",
    "\n",
    "Function call will transfer the control of the program and goes to the function definition.All codes inside the function are executed.\n",
    "The control of the program jumps to the next statement after the function call.A Python function may or may not return a value. If we want our function to return some value to a function call, we use the return statement."
   ]
  },
  {
   "cell_type": "code",
   "execution_count": 2,
   "id": "c795ce2e-15bd-445e-8a42-b41f6b30853e",
   "metadata": {},
   "outputs": [],
   "source": [
    "#5. How many global scopes are there in a Python program? How many local scopes?"
   ]
  },
  {
   "cell_type": "raw",
   "id": "8b64bb41-27d5-47db-84e2-0830004ae605",
   "metadata": {},
   "source": [
    "Global variables are those which are not defined inside any function and have a global scope whereas Python local variables are those which are defined inside a function and their scope is limited to that function only.The scope of a local variable is the block within which it is declared. The variable can be referred to in blocks nested within the declaring block."
   ]
  },
  {
   "cell_type": "code",
   "execution_count": 8,
   "id": "939630e0-02fb-4c26-9a26-8a022d0244cf",
   "metadata": {},
   "outputs": [
    {
     "name": "stdout",
     "output_type": "stream",
     "text": [
      "200\n"
     ]
    }
   ],
   "source": [
    "## Example for global and local variable\n",
    "x = 300\n",
    "\n",
    "def myfunc():\n",
    "    global x\n",
    "    x = 200\n",
    "    \n",
    "myfunc()\n",
    "\n",
    "print(x)"
   ]
  },
  {
   "cell_type": "code",
   "execution_count": 5,
   "id": "0b7596fe-01c0-48ba-a3e6-abadf19cf36d",
   "metadata": {},
   "outputs": [],
   "source": [
    "#6. What happens to variables in a local scope when the function call returns?"
   ]
  },
  {
   "cell_type": "raw",
   "id": "dbd83f9d-d224-46ec-9847-d30d03d5fc65",
   "metadata": {},
   "source": [
    "When the execution of the function terminates (returns), the local variables are destroyed.\n",
    "When a variable goes out of scope, such as a local variable in a function after the function returns, its memory can be used for other purposes. \n",
    "Taking the address of a local variable and then dereferencing that address after the variable is out of scope invokes undefined behavior."
   ]
  },
  {
   "cell_type": "code",
   "execution_count": 6,
   "id": "894f31e9-c26b-411e-b2f0-0fa41241d571",
   "metadata": {},
   "outputs": [],
   "source": [
    "#7. What is the concept of a return value? Is it possible to have a return value in an expression?"
   ]
  },
  {
   "cell_type": "raw",
   "id": "20409b5c-15da-4a04-a16a-5bfe6b5b7a29",
   "metadata": {},
   "source": [
    "A Python function will always have a return value.if we do not explicitly use a return value in a return statement or if we totally omit the return statement, then Python will implicitly return a default value for you.A return is a value that a function returns to the calling script or function when it completes its task. A return value can be any one of the four variable types: handle, integer, object, or string. The type of value a function returns depends largely on the task it performs.\n",
    "A value-returning function should include a return statement, containing an expression. If an expression is not given on a return statement in a function declared with a None return type, the compiler issues a warning message.An expression is a combination of values, variables, operators, and calls to functions. If we type an expression at the Python prompt, the interpreter evaluates it and displays the result, which is always a value"
   ]
  },
  {
   "cell_type": "code",
   "execution_count": 7,
   "id": "b20e089d-d5f2-42b1-995a-fd5d7b83f9b9",
   "metadata": {},
   "outputs": [],
   "source": [
    "#8. If a function does not have a return statement, what is the return value of a call to that function?"
   ]
  },
  {
   "cell_type": "raw",
   "id": "3ba2d1d0-0cc9-4f4c-908f-faca22a34a43",
   "metadata": {},
   "source": [
    "Every function in Python returns something. If the function doesn't have any return statement, then it returns None."
   ]
  },
  {
   "cell_type": "code",
   "execution_count": 9,
   "id": "b0f12499-f3a5-4e40-b22c-80a6edd734e2",
   "metadata": {},
   "outputs": [
    {
     "data": {
      "text/plain": [
       "NoneType"
      ]
     },
     "execution_count": 9,
     "metadata": {},
     "output_type": "execute_result"
    }
   ],
   "source": [
    "# Example\n",
    "def fun():\n",
    "    pass\n",
    "type(fun())"
   ]
  },
  {
   "cell_type": "code",
   "execution_count": 10,
   "id": "671eb6ac-4cce-42b8-a888-038ce61e9527",
   "metadata": {},
   "outputs": [],
   "source": [
    "#9. How do you make a function variable refer to the global variable?"
   ]
  },
  {
   "cell_type": "raw",
   "id": "fb75c773-4bab-4b43-b8fc-12f4cc6fda2e",
   "metadata": {},
   "source": [
    "To create a global variable inside a function, you can use the global keyword."
   ]
  },
  {
   "cell_type": "code",
   "execution_count": 13,
   "id": "981e85c6-6794-4e5e-b490-23d842b15b09",
   "metadata": {},
   "outputs": [
    {
     "name": "stdout",
     "output_type": "stream",
     "text": [
      "3\n"
     ]
    }
   ],
   "source": [
    "# Example for global variable\n",
    "c = 1 \n",
    "def add():\n",
    "# use of global keyword\n",
    "    global c\n",
    "\n",
    "# increment c by 2\n",
    "    c = c + 2 \n",
    "    print(c)\n",
    "    \n",
    "add()"
   ]
  },
  {
   "cell_type": "code",
   "execution_count": 14,
   "id": "5732cc92-88f1-4755-ac15-342e276a3747",
   "metadata": {},
   "outputs": [],
   "source": [
    "#10. What is the data type of None?"
   ]
  },
  {
   "cell_type": "markdown",
   "id": "39f11f11-4756-48cf-ad65-e96073df9c5d",
   "metadata": {},
   "source": [
    "None is an instance of NoneType.It represents the absence of a value.It is a data type of the class NoneType object"
   ]
  },
  {
   "cell_type": "code",
   "execution_count": 16,
   "id": "9e1d6d5c-aacf-4689-b2fe-827a6129fbb4",
   "metadata": {},
   "outputs": [
    {
     "data": {
      "text/plain": [
       "NoneType"
      ]
     },
     "execution_count": 16,
     "metadata": {},
     "output_type": "execute_result"
    }
   ],
   "source": [
    "# Example for None\n",
    "def fun():\n",
    "    pass\n",
    "type(fun())"
   ]
  },
  {
   "cell_type": "code",
   "execution_count": 17,
   "id": "29f1ef97-1b92-4d93-a1a7-f6de7f28c061",
   "metadata": {},
   "outputs": [],
   "source": [
    "#11. What does the sentence import areallyourpetsnamederic do?"
   ]
  },
  {
   "cell_type": "code",
   "execution_count": 18,
   "id": "d5d5cc90-7916-4545-b09b-646098137a56",
   "metadata": {},
   "outputs": [
    {
     "ename": "ModuleNotFoundError",
     "evalue": "No module named 'areallyourpetsnamederic'",
     "output_type": "error",
     "traceback": [
      "\u001b[0;31m---------------------------------------------------------------------------\u001b[0m",
      "\u001b[0;31mModuleNotFoundError\u001b[0m                       Traceback (most recent call last)",
      "Cell \u001b[0;32mIn [18], line 1\u001b[0m\n\u001b[0;32m----> 1\u001b[0m \u001b[38;5;28;01mimport\u001b[39;00m \u001b[38;5;21;01mareallyourpetsnamederic\u001b[39;00m\n",
      "\u001b[0;31mModuleNotFoundError\u001b[0m: No module named 'areallyourpetsnamederic'"
     ]
    }
   ],
   "source": [
    "import areallyourpetsnamederic"
   ]
  },
  {
   "cell_type": "raw",
   "id": "ffab3c4d-8bd3-4d91-bd3e-978a2e6927fd",
   "metadata": {},
   "source": [
    "It will return module not found error. Because we have not defined any library with the name \"areallyourpetsnamederic\"."
   ]
  },
  {
   "cell_type": "code",
   "execution_count": 19,
   "id": "fbded292-1a29-4cc8-a981-158491f8336d",
   "metadata": {},
   "outputs": [],
   "source": [
    "#12. If you had a bacon() feature in a spam module, what would you call it after importing spam?"
   ]
  },
  {
   "cell_type": "raw",
   "id": "f636114d-8ef8-43b6-b6f4-42fd9caf5794",
   "metadata": {},
   "source": [
    "We can call the function with spam variable as shown below.However, if spam module is not defined the python libraries \n",
    "interpreter will throw an error.\n",
    "\n",
    "import spam as sp\n",
    "sp.bacon()"
   ]
  },
  {
   "cell_type": "code",
   "execution_count": 20,
   "id": "ab780d23-bbb1-4bda-930a-879354cfc4c6",
   "metadata": {},
   "outputs": [],
   "source": [
    "#13. What can you do to save a programme from crashing if it encounters an error?"
   ]
  },
  {
   "cell_type": "raw",
   "id": "5f8ec0d0-fada-42fa-ad25-c983ad04ed9d",
   "metadata": {},
   "source": [
    "When program encounters an error, the control is passed to the except block, skipping the code in between. As seen in the above code, we have moved our code inside a try and except statement. we will be running the program and it should throw an error message instead of crashing the program."
   ]
  },
  {
   "cell_type": "code",
   "execution_count": 21,
   "id": "fecd4265-ac4a-4f67-b26d-904e0e23a89c",
   "metadata": {},
   "outputs": [],
   "source": [
    "#14. What is the purpose of the try clause? What is the purpose of the except clause?"
   ]
  },
  {
   "cell_type": "raw",
   "id": "3045f742-108c-4878-b936-67db15f0e54b",
   "metadata": {},
   "source": [
    "Exceptions abnormally terminate the execution of a program.This is why it is important to handle exceptions.\n",
    "try:\n",
    "    # code that may cause exception\n",
    "except:\n",
    "    # code to run when exception occurs"
   ]
  },
  {
   "cell_type": "code",
   "execution_count": 22,
   "id": "a3085948-72f3-452b-b429-f6d894e5ba2f",
   "metadata": {},
   "outputs": [
    {
     "name": "stdout",
     "output_type": "stream",
     "text": [
      "Error: Denominator cannot be 0.\n"
     ]
    }
   ],
   "source": [
    "#Example fr try and except\n",
    "try:\n",
    "    numerator = 10\n",
    "    denominator = 0\n",
    "\n",
    "    result = numerator/denominator\n",
    "\n",
    "    print(result)\n",
    "except:\n",
    "    print(\"Error: Denominator cannot be 0.\")"
   ]
  },
  {
   "cell_type": "code",
   "execution_count": null,
   "id": "b8fc5916-c366-4d98-a851-3be3c38b6668",
   "metadata": {},
   "outputs": [],
   "source": []
  }
 ],
 "metadata": {
  "kernelspec": {
   "display_name": "Python 3 (ipykernel)",
   "language": "python",
   "name": "python3"
  },
  "language_info": {
   "codemirror_mode": {
    "name": "ipython",
    "version": 3
   },
   "file_extension": ".py",
   "mimetype": "text/x-python",
   "name": "python",
   "nbconvert_exporter": "python",
   "pygments_lexer": "ipython3",
   "version": "3.10.6"
  }
 },
 "nbformat": 4,
 "nbformat_minor": 5
}
